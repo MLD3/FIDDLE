{
 "cells": [
  {
   "cell_type": "code",
   "execution_count": 1,
   "metadata": {},
   "outputs": [],
   "source": [
    "from lib.data import _Mimic3Reader\n",
    "import pandas as pd\n",
    "import numpy as np"
   ]
  },
  {
   "cell_type": "code",
   "execution_count": 2,
   "metadata": {},
   "outputs": [],
   "source": [
    "timestep = 1.0"
   ]
  },
  {
   "cell_type": "code",
   "execution_count": 4,
   "metadata": {},
   "outputs": [
    {
     "name": "stdout",
     "output_type": "stream",
     "text": [
      "Finish reading data \t 7.25 s\n",
      "s (15873, 90)\n",
      "X (15873, 4, 2077)\n",
      "Finish reading data \t 22.47 s\n",
      "s (14174, 88)\n",
      "X (14174, 12, 2441)\n",
      "Finish reading data \t 11.49 s\n",
      "s (19342, 90)\n",
      "X (19342, 4, 2302)\n",
      "Finish reading data \t 29.93 s\n",
      "s (17588, 89)\n",
      "X (17588, 12, 2753)\n"
     ]
    }
   ],
   "source": [
    "for task in ['ARF', 'Shock']:\n",
    "    for duration in [4.0, 12.0]:\n",
    "        reader = _Mimic3Reader(task, duration, timestep)\n",
    "        print('s', reader.s.shape)\n",
    "        print('X', reader.X.shape)"
   ]
  },
  {
   "cell_type": "code",
   "execution_count": 3,
   "metadata": {},
   "outputs": [
    {
     "name": "stdout",
     "output_type": "stream",
     "text": [
      "Finish reading data \t 65.18 s\n",
      "s (8577, 88)\n",
      "X (8577, 48, 3491)\n"
     ]
    }
   ],
   "source": [
    "for task in ['mortality']:\n",
    "    for duration in [48.0]:\n",
    "        reader = _Mimic3Reader(task, duration, timestep)\n",
    "        print('s', reader.s.shape)\n",
    "        print('X', reader.X.shape)"
   ]
  },
  {
   "cell_type": "code",
   "execution_count": null,
   "metadata": {},
   "outputs": [],
   "source": []
  }
 ],
 "metadata": {
  "kernelspec": {
   "display_name": "Python 3",
   "language": "python",
   "name": "python3"
  },
  "language_info": {
   "codemirror_mode": {
    "name": "ipython",
    "version": 3
   },
   "file_extension": ".py",
   "mimetype": "text/x-python",
   "name": "python",
   "nbconvert_exporter": "python",
   "pygments_lexer": "ipython3",
   "version": "3.7.4"
  }
 },
 "nbformat": 4,
 "nbformat_minor": 4
}
