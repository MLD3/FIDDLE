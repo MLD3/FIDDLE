{
 "cells": [
  {
   "cell_type": "code",
   "execution_count": 1,
   "metadata": {},
   "outputs": [
    {
     "name": "stderr",
     "output_type": "stream",
     "text": [
      "/home/tangsp/venv/lib/python3.6/site-packages/ipykernel_launcher.py:12: YAMLLoadWarning: calling yaml.load() without Loader=... is deprecated, as the default Loader is unsafe. Please read https://msg.pyyaml.org/load for full details.\n",
      "  if sys.path[0] == '':\n"
     ]
    }
   ],
   "source": [
    "from matplotlib import pyplot as plt\n",
    "import matplotlib\n",
    "import numpy as np\n",
    "import pandas as pd\n",
    "from sklearn import metrics, utils\n",
    "from joblib import Parallel, delayed\n",
    "from tqdm import tqdm_notebook as tqdm\n",
    "\n",
    "import yaml\n",
    "\n",
    "with open('config.yaml') as f:\n",
    "    config = yaml.load(f)\n",
    "    data_path = config['data_path']"
   ]
  },
  {
   "cell_type": "code",
   "execution_count": 2,
   "metadata": {},
   "outputs": [],
   "source": [
    "matplotlib.rcParams['font.size'] = 12.0\n",
    "matplotlib.rcParams['font.family'] = 'sans-serif'\n",
    "matplotlib.rcParams['font.sans-serif'] = [\n",
    "    'Roboto',\n",
    "    'DejaVu Sans',\n",
    "    'sans-serif'\n",
    "]"
   ]
  },
  {
   "cell_type": "code",
   "execution_count": 3,
   "metadata": {},
   "outputs": [],
   "source": [
    "tasks = ['ARF', 'Shock']\n",
    "Ts = [4, 12]\n",
    "models = ['LR', 'RF', 'CNN_V3', 'RNN_V2', ]\n",
    "colors = ['#2ca02c', '#d62728', '#1f77b4', '#ff7f0e']"
   ]
  },
  {
   "cell_type": "code",
   "execution_count": 11,
   "metadata": {},
   "outputs": [],
   "source": [
    "dt = 1.0\n",
    "output = {}\n",
    "\n",
    "for task in tasks:\n",
    "    output[task] = {}\n",
    "    for T in Ts:\n",
    "        output[task][T] = {}\n",
    "        for model in models:\n",
    "            f = np.load(open('output/outcome={}.T={}.dt={}/{}.test.npz'.format(task, T, dt, model), 'rb'))\n",
    "            y_score, y_true = f['y_score'], f['y_true']\n",
    "            output[task][T][model] = (y_score, y_true)\n",
    "        \n",
    "        # Check all test sets are equal\n",
    "        y_trues = [y_true for _, y_true in output[task][T].values()]\n",
    "        assert all((e == y_trues[0]).all() for e in y_trues)\n",
    "\n",
    "task = 'mortality'\n",
    "output[task] = {}\n",
    "T = 48\n",
    "output[task][T] = {}\n",
    "for model in models:\n",
    "    f = np.load(open('output/outcome={}.T={}.dt={}/{}.test.npz'.format(task, T, dt, model), 'rb'))\n",
    "    y_score, y_true = f['y_score'], f['y_true']\n",
    "    output[task][T][model] = (y_score, y_true)\n",
    "\n",
    "# Check all test sets are equal\n",
    "y_trues = [y_true for _, y_true in output[task][T].values()]\n",
    "assert all((e == y_trues[0]).all() for e in y_trues)"
   ]
  },
  {
   "cell_type": "code",
   "execution_count": 5,
   "metadata": {},
   "outputs": [],
   "source": [
    "def plot_pred_gaps(task, T):\n",
    "    f = np.load(open('output/outcome={}.T={}.dt={}/idx.npz'.format(task, T, dt), 'rb'))\n",
    "    tr_idx, va_idx, te_idx = f['tr_idx'], f['va_idx'], f['te_idx']\n",
    "\n",
    "    df_true = pd.read_csv(data_path + 'population/{}_{}h.csv'.format(task, T))\n",
    "    y_true = df_true.iloc[te_idx]['{}_LABEL'.format(task)].values\n",
    "    assert (y_true == output[task][T]['CNN_V3'][1].ravel().astype(int)).all()\n",
    "    df_true = df_true.iloc[te_idx]\n",
    "\n",
    "    # Prediction gap\n",
    "    def func(i):\n",
    "        y_true_b, y_score_b = utils.resample(y_truex, y_scorex, replace=True, random_state=i)\n",
    "        return metrics.roc_auc_score(y_true_b, y_score_b)\n",
    "\n",
    "    scores = [[], [] ,[], []]\n",
    "    score_stds = [[], [], [], []]\n",
    "    for x in tqdm(range(0, 13)):\n",
    "        mask = ~(df_true['{}_ONSET_HOUR'.format(task)] < T + x)\n",
    "        y_gapx = df_true[mask][['ICUSTAY_ID', '{}_LABEL'.format(task)]].reset_index(drop=True)\n",
    "        for i, model in enumerate(models):\n",
    "#         for i, y_score in enumerate([\n",
    "#             output[task][T]['CNN_V3'][0],\n",
    "#             output[task][T]['RNN_V2'][0],\n",
    "#             output[task][T]['LR'][0],\n",
    "#             output[task][T]['RF'][0]\n",
    "#         ]):\n",
    "            y_score = output[task][T][model][0]\n",
    "    #         df_gapx = df[df['ICUSTAY_ID'].isin(y_gapx['ICUSTAY_ID'])].reset_index(drop=True)\n",
    "            y_truex = y_gapx['{}_LABEL'.format(task)].values\n",
    "    #         y_score = df_gapx['y_score'].values\n",
    "            y_scorex = y_score[mask]\n",
    "            scores[i].append(metrics.roc_auc_score(y_truex, y_scorex))\n",
    "\n",
    "            boot_scores = Parallel(n_jobs=1)(delayed(func)(j) for j in range(1000))\n",
    "\n",
    "            score_stds[i].append(np.std(boot_scores))\n",
    "    #         np.percentile(test_scores, 2.5), np.percentile(test_scores, 97.5)\n",
    "\n",
    "    fig, ax = plt.subplots(figsize=(5,3))\n",
    "    # x = np.arange(4, 29) - 4\n",
    "    y = np.array(scores).T\n",
    "    err = np.array(score_stds).T\n",
    "\n",
    "    # plt.plot(x, y, marker='.', linestyle='')\n",
    "    # # plt.fill_between(x, (y-err), (y+err), alpha=0.15)\n",
    "    # plt.fill_between(x, (y-err)[:,0], (y+err)[:,0], alpha=0.15)\n",
    "    # plt.fill_between(x, (y-err)[:,1], (y+err)[:,1], alpha=0.15)\n",
    "    # plt.fill_between(x, (y-err)[:,2], (y+err)[:,2], alpha=0.15)\n",
    "    # plt.fill_between(x, (y-err)[:,3], (y+err)[:,3], alpha=0.15)\n",
    "\n",
    "    for color, x, y, yerr, x_offset in zip(\n",
    "        colors,\n",
    "        [np.arange(0, 13, 1)] * 4,\n",
    "        [np.array(scores)[0, ::1].T, np.array(scores)[1, ::1].T, np.array(scores)[2, ::1].T, np.array(scores)[3, ::1].T],\n",
    "        [np.array(score_stds)[0, ::1].T, np.array(score_stds)[1, ::1].T, np.array(score_stds)[2, ::1].T, np.array(score_stds)[3, ::1].T],\n",
    "        np.array([-1.5, -0.5, 0.5, 1.5]) * 0.15,\n",
    "    ):\n",
    "        plt.plot(x+x_offset, y, '.', color=color, markersize=8, label=model)\n",
    "        markers, caps, bars = plt.errorbar(x+x_offset, y, yerr=yerr, fmt='.', color=color, markersize=0, capsize=0.0, elinewidth=1.5)\n",
    "        [bar.set_alpha(0.75) for bar in bars]\n",
    "        [cap.set_alpha(0.75) for cap in caps]\n",
    "\n",
    "    ax.spines['right'].set_visible(False)\n",
    "    ax.spines['left'].set_visible(False)\n",
    "    ax.spines['top'].set_visible(False)\n",
    "    ax.yaxis.set_ticks_position('none')\n",
    "    plt.grid(axis='y', color='gray', linestyle=':')\n",
    "    plt.ylim(0.65, 0.90)\n",
    "\n",
    "    plt.ylabel('Test AUROC (±SE)')\n",
    "    plt.xlabel('Prediction Gap since {}h (h)'.format(T))\n",
    "    plt.legend(\n",
    "        ['LR', 'RF', 'CNN', 'RNN'], \n",
    "        ncol=2, \n",
    "        loc='upper right',\n",
    "        handlelength=0.5,\n",
    "#         fontsize=10.0,\n",
    "    )\n",
    "    plt.xticks(np.arange(0, 13, 1))\n",
    "    plt.title(task)\n",
    "    plt.tight_layout()\n",
    "    plt.savefig('figures/PredGap-{}_{}.svg'.format(task, T))"
   ]
  },
  {
   "cell_type": "code",
   "execution_count": 6,
   "metadata": {},
   "outputs": [
    {
     "data": {
      "application/vnd.jupyter.widget-view+json": {
       "model_id": "a64dd4f2b8784e98bd10164be6c512ef",
       "version_major": 2,
       "version_minor": 0
      },
      "text/plain": [
       "HBox(children=(IntProgress(value=0, max=13), HTML(value='')))"
      ]
     },
     "metadata": {},
     "output_type": "display_data"
    },
    {
     "name": "stdout",
     "output_type": "stream",
     "text": [
      "\n"
     ]
    },
    {
     "data": {
      "image/png": "[encoded data removed]",
      "text/plain": [
       "<Figure size 360x216 with 1 Axes>"
      ]
     },
     "metadata": {},
     "output_type": "display_data"
    }
   ],
   "source": [
    "plot_pred_gaps(task = 'ARF', T = 4)"
   ]
  },
  {
   "cell_type": "code",
   "execution_count": 8,
   "metadata": {},
   "outputs": [
    {
     "data": {
      "application/vnd.jupyter.widget-view+json": {
       "model_id": "b15e6f5db7a24ec8929ecefc25af4988",
       "version_major": 2,
       "version_minor": 0
      },
      "text/plain": [
       "HBox(children=(IntProgress(value=0, max=13), HTML(value='')))"
      ]
     },
     "metadata": {},
     "output_type": "display_data"
    },
    {
     "name": "stdout",
     "output_type": "stream",
     "text": [
      "\n"
     ]
    },
    {
     "data": {
      "image/png": "[encoded data removed]",
      "text/plain": [
       "<Figure size 360x216 with 1 Axes>"
      ]
     },
     "metadata": {},
     "output_type": "display_data"
    }
   ],
   "source": [
    "plot_pred_gaps(task = 'ARF', T = 12)"
   ]
  },
  {
   "cell_type": "code",
   "execution_count": 9,
   "metadata": {},
   "outputs": [
    {
     "data": {
      "application/vnd.jupyter.widget-view+json": {
       "model_id": "9359b3369a954975938dc0e7111859a5",
       "version_major": 2,
       "version_minor": 0
      },
      "text/plain": [
       "HBox(children=(IntProgress(value=0, max=13), HTML(value='')))"
      ]
     },
     "metadata": {},
     "output_type": "display_data"
    },
    {
     "name": "stdout",
     "output_type": "stream",
     "text": [
      "\n"
     ]
    },
    {
     "data": {
      "image/png": "[encoded data removed]",
      "text/plain": [
       "<Figure size 360x216 with 1 Axes>"
      ]
     },
     "metadata": {},
     "output_type": "display_data"
    }
   ],
   "source": [
    "plot_pred_gaps(task = 'Shock', T = 4)"
   ]
  },
  {
   "cell_type": "code",
   "execution_count": 10,
   "metadata": {},
   "outputs": [
    {
     "data": {
      "application/vnd.jupyter.widget-view+json": {
       "model_id": "94c7b6ec14444d3fb01f24acce1ffc02",
       "version_major": 2,
       "version_minor": 0
      },
      "text/plain": [
       "HBox(children=(IntProgress(value=0, max=13), HTML(value='')))"
      ]
     },
     "metadata": {},
     "output_type": "display_data"
    },
    {
     "name": "stdout",
     "output_type": "stream",
     "text": [
      "\n"
     ]
    },
    {
     "data": {
      "image/png": "[encoded data removed]",
      "text/plain": [
       "<Figure size 360x216 with 1 Axes>"
      ]
     },
     "metadata": {},
     "output_type": "display_data"
    }
   ],
   "source": [
    "plot_pred_gaps(task = 'Shock', T = 12)"
   ]
  },
  {
   "cell_type": "code",
   "execution_count": null,
   "metadata": {},
   "outputs": [],
   "source": []
  },
  {
   "cell_type": "code",
   "execution_count": 4,
   "metadata": {},
   "outputs": [],
   "source": [
    "def bootstrap_func(i, y_true, y_score):\n",
    "    yte_true_b, yte_pred_b = utils.resample(y_true, y_score, replace=True, random_state=i)\n",
    "    return metrics.roc_curve(yte_true_b, yte_pred_b), metrics.roc_auc_score(yte_true_b, yte_pred_b)"
   ]
  },
  {
   "cell_type": "code",
   "execution_count": 13,
   "metadata": {},
   "outputs": [],
   "source": [
    "task = 'Shock'\n",
    "dt = 1.0\n",
    "T1 = 4\n",
    "T2 = 12"
   ]
  },
  {
   "cell_type": "code",
   "execution_count": 6,
   "metadata": {},
   "outputs": [],
   "source": [
    "f = np.load(open('output/outcome={}.T={}.dt={}/idx.npz'.format(task, T1, dt), 'rb'))\n",
    "tr_idx, va_idx, te_idx = f['tr_idx'], f['va_idx'], f['te_idx']\n",
    "df_true = pd.read_csv(data_path + 'population/{}_{}h.csv'.format(task, T1))\n",
    "IDs = df_true.loc[te_idx, 'ICUSTAY_ID'].reset_index(drop=True)"
   ]
  },
  {
   "cell_type": "code",
   "execution_count": 7,
   "metadata": {},
   "outputs": [],
   "source": [
    "f = np.load(open('output/outcome={}.T={}.dt={}/idx.npz'.format(task, T2, dt), 'rb'))\n",
    "tr_idx, va_idx, te_idx = f['tr_idx'], f['va_idx'], f['te_idx']\n",
    "df_true = pd.read_csv(data_path + 'population/{}_{}h.csv'.format(task, T2))"
   ]
  },
  {
   "cell_type": "code",
   "execution_count": 8,
   "metadata": {},
   "outputs": [],
   "source": [
    "mask = [pd.Index(IDs).get_loc(i) for i in df_true.loc[te_idx, 'ICUSTAY_ID']]"
   ]
  },
  {
   "cell_type": "code",
   "execution_count": 14,
   "metadata": {},
   "outputs": [
    {
     "data": {
      "text/plain": [
       "(0.14684339, 0.07886677)"
      ]
     },
     "execution_count": 14,
     "metadata": {},
     "output_type": "execute_result"
    }
   ],
   "source": [
    "output[task][T1][model][1].mean(), output[task][T2][model][1].mean(), "
   ]
  },
  {
   "cell_type": "code",
   "execution_count": 18,
   "metadata": {},
   "outputs": [
    {
     "name": "stdout",
     "output_type": "stream",
     "text": [
      "LR\n",
      "4 0.736201567279213\n",
      "Test AUC: 0.736\n",
      "Test AUC: (0.704, 0.770) percentile 95% CI\n",
      "12 0.7916495169842385\n",
      "Test AUC: 0.792\n",
      "Test AUC: (0.758, 0.824) percentile 95% CI\n",
      "one-sided p-value: 0.0\n",
      "RF\n",
      "4 0.7108180196757298\n",
      "Test AUC: 0.711\n",
      "Test AUC: (0.675, 0.747) percentile 95% CI\n",
      "12 0.7725568764173709\n",
      "Test AUC: 0.773\n",
      "Test AUC: (0.740, 0.806) percentile 95% CI\n",
      "one-sided p-value: 0.0\n",
      "CNN_V3\n",
      "4 0.7493745409937939\n",
      "Test AUC: 0.749\n",
      "Test AUC: (0.717, 0.781) percentile 95% CI\n",
      "12 0.791377139675084\n",
      "Test AUC: 0.791\n",
      "Test AUC: (0.758, 0.823) percentile 95% CI\n",
      "one-sided p-value: 0.0\n",
      "RNN_V2\n",
      "4 0.7444999959647804\n",
      "Test AUC: 0.744\n",
      "Test AUC: (0.711, 0.776) percentile 95% CI\n",
      "12 0.7919360175612749\n",
      "Test AUC: 0.792\n",
      "Test AUC: (0.759, 0.823) percentile 95% CI\n",
      "one-sided p-value: 0.0\n"
     ]
    }
   ],
   "source": [
    "true_auc_scores1 = []\n",
    "true_auc_scores2 = []\n",
    "for model in models:\n",
    "    print(model)\n",
    "    y_score, y_true = output[task][T1][model]\n",
    "    score1 = metrics.roc_auc_score(y_true[mask], y_score[mask])\n",
    "    true_auc_scores1.append(score1)\n",
    "    roc_curves, auc_scores = zip(*Parallel(n_jobs=4)(delayed(bootstrap_func)(i, y_true[mask], y_score[mask]) for i in range(1000)))\n",
    "    auc_scores1 = auc_scores\n",
    "    print(T1, score1)\n",
    "    print('Test AUC: {:.3f}'.format(metrics.roc_auc_score(y_true[mask], y_score[mask])))\n",
    "    print('Test AUC: ({:.3f}, {:.3f}) percentile 95% CI'.format(np.percentile(auc_scores, 2.5), np.percentile(auc_scores, 97.5)))\n",
    "    y_score, y_true = output[task][T2][model]\n",
    "    score2 = metrics.roc_auc_score(y_true, y_score)\n",
    "    true_auc_scores2.append(score2)\n",
    "    roc_curves, auc_scores = zip(*Parallel(n_jobs=4)(delayed(bootstrap_func)(i, y_true, y_score) for i in range(1000)))\n",
    "    auc_scores2 = auc_scores\n",
    "    print(T2, score2)\n",
    "    print('Test AUC: {:.3f}'.format(metrics.roc_auc_score(y_true, y_score)))\n",
    "    print('Test AUC: ({:.3f}, {:.3f}) percentile 95% CI'.format(np.percentile(auc_scores, 2.5), np.percentile(auc_scores, 97.5)))\n",
    "    \n",
    "    print(\n",
    "        'one-sided p-value:', \n",
    "        2 * min(\n",
    "            (auc_scores1 < auc_scores2).mean(),\n",
    "            (auc_scores1 > auc_scores2).mean(),\n",
    "        )\n",
    "    )"
   ]
  },
  {
   "cell_type": "code",
   "execution_count": null,
   "metadata": {},
   "outputs": [],
   "source": []
  },
  {
   "cell_type": "code",
   "execution_count": null,
   "metadata": {},
   "outputs": [],
   "source": []
  },
  {
   "cell_type": "code",
   "execution_count": 38,
   "metadata": {},
   "outputs": [],
   "source": [
    "task = 'ARF'\n",
    "dt = 1.0\n",
    "T1 = 4\n",
    "T2 = 12"
   ]
  },
  {
   "cell_type": "code",
   "execution_count": 39,
   "metadata": {},
   "outputs": [],
   "source": [
    "f = np.load(open('output/outcome={}.T={}.dt={}/idx.npz'.format(task, T1, dt), 'rb'))\n",
    "tr_idx, va_idx, te_idx = f['tr_idx'], f['va_idx'], f['te_idx']\n",
    "df_true = pd.read_csv(data_path + 'population/{}_{}h.csv'.format(task, T1))\n",
    "IDs = df_true.loc[te_idx, 'ICUSTAY_ID'].reset_index(drop=True)"
   ]
  },
  {
   "cell_type": "code",
   "execution_count": 40,
   "metadata": {},
   "outputs": [],
   "source": [
    "f = np.load(open('output/outcome={}.T={}.dt={}/idx.npz'.format(task, T2, dt), 'rb'))\n",
    "tr_idx, va_idx, te_idx = f['tr_idx'], f['va_idx'], f['te_idx']\n",
    "df_true = pd.read_csv(data_path + 'population/{}_{}h.csv'.format(task, T2))"
   ]
  },
  {
   "cell_type": "code",
   "execution_count": 41,
   "metadata": {},
   "outputs": [],
   "source": [
    "mask = [pd.Index(IDs).get_loc(i) for i in df_true.loc[te_idx, 'ICUSTAY_ID']]"
   ]
  },
  {
   "cell_type": "code",
   "execution_count": 42,
   "metadata": {},
   "outputs": [
    {
     "data": {
      "text/plain": [
       "(0.18659881, 0.0960344)"
      ]
     },
     "execution_count": 42,
     "metadata": {},
     "output_type": "execute_result"
    }
   ],
   "source": [
    "output[task][T1][model][1].mean(), output[task][T2][model][1].mean(), "
   ]
  },
  {
   "cell_type": "code",
   "execution_count": 43,
   "metadata": {},
   "outputs": [
    {
     "name": "stdout",
     "output_type": "stream",
     "text": [
      "LR\n",
      "4 0.7123131698799869\n",
      "Test AUC: 0.712\n",
      "Test AUC: (0.674, 0.746) percentile 95% CI\n",
      "12 0.7565213046816657\n",
      "Test AUC: 0.757\n",
      "Test AUC: (0.720, 0.789) percentile 95% CI\n",
      "RF\n",
      "4 0.7083215003208061\n",
      "Test AUC: 0.708\n",
      "Test AUC: (0.671, 0.743) percentile 95% CI\n",
      "12 0.7600869857898669\n",
      "Test AUC: 0.760\n",
      "Test AUC: (0.726, 0.793) percentile 95% CI\n",
      "CNN_V3\n",
      "4 0.7279248577408939\n",
      "Test AUC: 0.728\n",
      "Test AUC: (0.690, 0.762) percentile 95% CI\n",
      "12 0.7682175801752338\n",
      "Test AUC: 0.768\n",
      "Test AUC: (0.733, 0.800) percentile 95% CI\n",
      "RNN_V2\n",
      "4 0.7265285622626824\n",
      "Test AUC: 0.727\n",
      "Test AUC: (0.689, 0.762) percentile 95% CI\n",
      "12 0.7709365434981541\n",
      "Test AUC: 0.771\n",
      "Test AUC: (0.737, 0.802) percentile 95% CI\n"
     ]
    }
   ],
   "source": [
    "true_auc_scores1 = []\n",
    "true_auc_scores2 = []\n",
    "for model in models:\n",
    "    print(model)\n",
    "    y_score, y_true = output[task][T1][model]\n",
    "    score1 = metrics.roc_auc_score(y_true[mask], y_score[mask])\n",
    "    true_auc_scores1.append(score1)\n",
    "    roc_curves, auc_scores = zip(*Parallel(n_jobs=4)(delayed(bootstrap_func)(i, y_true[mask], y_score[mask]) for i in range(1000)))\n",
    "    print(T1, score1)\n",
    "    print('Test AUC: {:.3f}'.format(metrics.roc_auc_score(y_true[mask], y_score[mask])))\n",
    "    print('Test AUC: ({:.3f}, {:.3f}) percentile 95% CI'.format(np.percentile(auc_scores, 2.5), np.percentile(auc_scores, 97.5)))\n",
    "    \n",
    "    y_score, y_true = output[task][T2][model]\n",
    "    score2 = metrics.roc_auc_score(y_true, y_score)\n",
    "    true_auc_scores2.append(score2)\n",
    "    roc_curves, auc_scores = zip(*Parallel(n_jobs=4)(delayed(bootstrap_func)(i, y_true, y_score) for i in range(1000)))\n",
    "    print(T2, score2)\n",
    "    print('Test AUC: {:.3f}'.format(metrics.roc_auc_score(y_true, y_score)))\n",
    "    print('Test AUC: ({:.3f}, {:.3f}) percentile 95% CI'.format(np.percentile(auc_scores, 2.5), np.percentile(auc_scores, 97.5)))"
   ]
  },
  {
   "cell_type": "code",
   "execution_count": null,
   "metadata": {},
   "outputs": [],
   "source": []
  }
 ],
 "metadata": {
  "kernelspec": {
   "display_name": "Python 3",
   "language": "python",
   "name": "python3"
  },
  "language_info": {
   "codemirror_mode": {
    "name": "ipython",
    "version": 3
   },
   "file_extension": ".py",
   "mimetype": "text/x-python",
   "name": "python",
   "nbconvert_exporter": "python",
   "pygments_lexer": "ipython3",
   "version": "3.6.5"
  }
 },
 "nbformat": 4,
 "nbformat_minor": 2
}
