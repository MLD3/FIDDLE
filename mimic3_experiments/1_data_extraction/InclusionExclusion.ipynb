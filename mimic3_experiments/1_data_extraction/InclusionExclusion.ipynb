{
 "cells": [
  {
   "cell_type": "code",
   "execution_count": 1,
   "metadata": {},
   "outputs": [],
   "source": [
    "import numpy as np\n",
    "import pandas as pd\n",
    "import os, sys, time\n",
    "from datetime import datetime, timedelta\n",
    "import pickle\n",
    "\n",
    "from collections import Counter"
   ]
  },
  {
   "cell_type": "code",
   "execution_count": 2,
   "metadata": {},
   "outputs": [],
   "source": [
    "import yaml\n",
    "config = yaml.safe_load(open('../config.yaml'))\n",
    "data_path = config['data_path']\n",
    "mimic3_path = config['mimic3_path']\n",
    "\n",
    "import pathlib\n",
    "pathlib.Path(data_path, 'population').mkdir(parents=True, exist_ok=True)"
   ]
  },
  {
   "cell_type": "code",
   "execution_count": 3,
   "metadata": {},
   "outputs": [],
   "source": [
    "patients = pd.read_csv(mimic3_path + 'PATIENTS.csv', parse_dates=['DOB', 'DOD'], usecols=['SUBJECT_ID', 'DOB', 'DOD'])\n",
    "admissions = pd.read_csv(mimic3_path + 'ADMISSIONS.csv', parse_dates=['DEATHTIME'], usecols=['SUBJECT_ID', 'HADM_ID', 'DEATHTIME', 'HOSPITAL_EXPIRE_FLAG'])\n",
    "examples = pd.read_csv(data_path + 'prep/icustays_MV.csv', parse_dates=['INTIME', 'OUTTIME']).sort_values(by='ICUSTAY_ID') # Only Metavision\n",
    "\n",
    "examples = pd.merge(examples, patients, on='SUBJECT_ID', how='left')\n",
    "examples = pd.merge(examples, admissions, on=['SUBJECT_ID', 'HADM_ID'], how='left')\n",
    "examples['AGE'] = examples.apply(lambda x: (x['INTIME'] - x['DOB']).total_seconds(), axis=1) / 3600 / 24 / 365.25\n",
    "\n",
    "examples['LOS'] = examples['LOS'] * 24 # Convert to hours"
   ]
  },
  {
   "cell_type": "code",
   "execution_count": 4,
   "metadata": {},
   "outputs": [],
   "source": [
    "tasks = ['ARF', 'Shock']\n",
    "label_defs = { task: pd.read_csv(data_path + 'labels/{}.csv'.format(task)) for task in tasks }"
   ]
  },
  {
   "cell_type": "code",
   "execution_count": 5,
   "metadata": {},
   "outputs": [
    {
     "name": "stdout",
     "output_type": "stream",
     "text": [
      "Source population 23620\n"
     ]
    }
   ],
   "source": [
    "# Start\n",
    "N = len(examples['ICUSTAY_ID'].unique())\n",
    "print('Source population', N)"
   ]
  },
  {
   "cell_type": "code",
   "execution_count": 6,
   "metadata": {},
   "outputs": [],
   "source": [
    "assert (examples['INTIME'] <= examples['OUTTIME']).all()\n",
    "assert (examples['DBSOURCE'] == 'metavision').all()"
   ]
  },
  {
   "cell_type": "code",
   "execution_count": 7,
   "metadata": {},
   "outputs": [
    {
     "name": "stdout",
     "output_type": "stream",
     "text": [
      "Exclude non-adults 23593\n"
     ]
    }
   ],
   "source": [
    "# Remove non-adults\n",
    "min_age = 18\n",
    "max_age = np.inf # no max age\n",
    "examples = examples[(examples.AGE >= min_age) & (examples.AGE <= max_age)]\n",
    "print('Exclude non-adults', examples['ICUSTAY_ID'].nunique())\n",
    "examples_ = examples"
   ]
  },
  {
   "cell_type": "code",
   "execution_count": 8,
   "metadata": {},
   "outputs": [
    {
     "name": "stdout",
     "output_type": "stream",
     "text": [
      "======\n",
      "prediction time 4.0 hour\n",
      "Exclude deaths 23499\n",
      "Exclude discharges 23401\n",
      "---\n",
      "Outcome ARF\n",
      "Exclude onset 15873\n",
      "---\n",
      "Outcome Shock\n",
      "Exclude onset 19342\n",
      "======\n",
      "prediction time 12.0 hour\n",
      "Exclude deaths 23319\n",
      "Exclude discharges 23060\n",
      "---\n",
      "Outcome ARF\n",
      "Exclude onset 14174\n",
      "---\n",
      "Outcome Shock\n",
      "Exclude onset 17588\n"
     ]
    }
   ],
   "source": [
    "for T in [4.0, 12.0]:\n",
    "    print('======')\n",
    "    print('prediction time', T, 'hour')\n",
    "\n",
    "    # Remove died before cutoff hour\n",
    "    examples = examples_[(examples_.DEATHTIME >= examples_.INTIME + timedelta(hours=T)) | (examples_.DEATHTIME.isnull())]\n",
    "    print('Exclude deaths', examples['ICUSTAY_ID'].nunique())\n",
    "\n",
    "    # Remove LOS < cutoff hour\n",
    "    examples = examples[examples['LOS'] >= T]\n",
    "    print('Exclude discharges', examples['ICUSTAY_ID'].nunique())\n",
    "\n",
    "    populations = {}\n",
    "    # Remove event onset before (cutoff)\n",
    "    for task in tasks:\n",
    "        print('---')\n",
    "        print('Outcome', task)\n",
    "        label_def = label_defs[task]\n",
    "\n",
    "        # Needed to preserve index in DataFrame\n",
    "        pop = examples[['ICUSTAY_ID']].reset_index() \\\n",
    "                .merge(label_def[['ICUSTAY_ID', '{}_ONSET_HOUR'.format(task)]], on='ICUSTAY_ID', how='left') \\\n",
    "                .set_index('index').copy()\n",
    "        pop = pop[(pop['{}_ONSET_HOUR'.format(task)] >= T) | pop['{}_ONSET_HOUR'.format(task)].isnull()]\n",
    "        pop['{}_LABEL'.format(task)] = pop['{}_ONSET_HOUR'.format(task)].notnull().astype(int)\n",
    "        pop = pop.rename(columns={'ICUSTAY_ID': 'ID'})\n",
    "        pop.to_csv(data_path + 'population/{}_{}h.csv'.format(task, T), index=False)\n",
    "\n",
    "        # Construct boolean mask\n",
    "        ## NOTE: uses pop.index here, assuming index is preserved\n",
    "        idx = pop.index\n",
    "        ## Otherwise, there's a slower version\n",
    "        # if False:\n",
    "        #    idx = np.array([examples[examples.ICUSTAY_ID == i].index[0] for i in pop['ICUSTAY_ID']])\n",
    "        mask_array = np.zeros(N, dtype=bool)\n",
    "        mask_array[idx] = True\n",
    "\n",
    "        # Save population boolean mask\n",
    "        np.save(data_path + 'population/mask_{}_{}h.npy'.format(task, T), mask_array)\n",
    "        np.savetxt(data_path + 'population/mask_{}_{}h.txt'.format(task, T), mask_array, fmt='%i')\n",
    "\n",
    "        populations[task] = pop\n",
    "        print('Exclude onset', len(pop))"
   ]
  },
  {
   "cell_type": "code",
   "execution_count": 9,
   "metadata": {},
   "outputs": [
    {
     "name": "stdout",
     "output_type": "stream",
     "text": [
      "======\n",
      "prediction time 48.0 hour\n",
      "Exclude deaths 22776\n",
      "Exclude discharges 11695\n",
      "---\n",
      "Outcome mortality\n",
      "Exclude onset 11695\n"
     ]
    }
   ],
   "source": [
    "for T in [48.0]:\n",
    "    print('======')\n",
    "    print('prediction time', T, 'hour')\n",
    "\n",
    "    # Remove died before cutoff hour\n",
    "    examples = examples_[(examples_.DEATHTIME >= examples_.INTIME + timedelta(hours=T)) | (examples_.DEATHTIME.isnull())]\n",
    "    print('Exclude deaths', examples['ICUSTAY_ID'].nunique())\n",
    "\n",
    "    # Remove LOS < cutoff hour\n",
    "    examples = examples[examples['LOS'] >= T]\n",
    "    print('Exclude discharges', examples['ICUSTAY_ID'].nunique())\n",
    "\n",
    "    # Remove event onset before (cutoff)\n",
    "    for task in ['mortality']:\n",
    "        print('---')\n",
    "        print('Outcome', task)\n",
    "        examples['{}_LABEL'.format(task)] = examples.HOSPITAL_EXPIRE_FLAG\n",
    "        pop = examples[['ICUSTAY_ID', '{}_LABEL'.format(task)]]\n",
    "        pop = pop.rename(columns={'ICUSTAY_ID': 'ID'})\n",
    "        pop.to_csv(data_path + 'population/{}_{}h.csv'.format(task, T), index=False)\n",
    "        print('Exclude onset', len(pop))"
   ]
  },
  {
   "cell_type": "code",
   "execution_count": null,
   "metadata": {},
   "outputs": [],
   "source": []
  }
 ],
 "metadata": {
  "kernelspec": {
   "display_name": "Python 3",
   "language": "python",
   "name": "python3"
  },
  "language_info": {
   "codemirror_mode": {
    "name": "ipython",
    "version": 3
   },
   "file_extension": ".py",
   "mimetype": "text/x-python",
   "name": "python",
   "nbconvert_exporter": "python",
   "pygments_lexer": "ipython3",
   "version": "3.5.2"
  }
 },
 "nbformat": 4,
 "nbformat_minor": 2
}
