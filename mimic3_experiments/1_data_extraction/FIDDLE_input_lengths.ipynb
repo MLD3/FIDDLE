{
 "cells": [
  {
   "cell_type": "code",
   "execution_count": 1,
   "metadata": {},
   "outputs": [],
   "source": [
    "import pandas as pd"
   ]
  },
  {
   "cell_type": "code",
   "execution_count": 5,
   "metadata": {},
   "outputs": [
    {
     "name": "stdout",
     "output_type": "stream",
     "text": [
      "outcome=ARF,T=4.0,dt=1.0 5034261\n",
      "<class 'pandas.core.frame.DataFrame'>\n",
      "RangeIndex: 5034261 entries, 0 to 5034260\n",
      "Data columns (total 4 columns):\n",
      "ID                int64\n",
      "t                 float64\n",
      "variable_name     object\n",
      "variable_value    object\n",
      "dtypes: float64(1), int64(1), object(2)\n",
      "memory usage: 153.6+ MB\n",
      "\n",
      "outcome=ARF,T=12.0,dt=1.0 11967172\n",
      "<class 'pandas.core.frame.DataFrame'>\n",
      "RangeIndex: 11967172 entries, 0 to 11967171\n",
      "Data columns (total 4 columns):\n",
      "ID                int64\n",
      "t                 float64\n",
      "variable_name     object\n",
      "variable_value    object\n",
      "dtypes: float64(1), int64(1), object(2)\n",
      "memory usage: 365.2+ MB\n",
      "\n",
      "outcome=Shock,T=4.0,dt=1.0 6747035\n",
      "<class 'pandas.core.frame.DataFrame'>\n",
      "RangeIndex: 6747035 entries, 0 to 6747034\n",
      "Data columns (total 4 columns):\n",
      "ID                int64\n",
      "t                 float64\n",
      "variable_name     object\n",
      "variable_value    object\n",
      "dtypes: float64(1), int64(1), object(2)\n",
      "memory usage: 205.9+ MB\n",
      "\n",
      "outcome=Shock,T=12.0,dt=1.0 16547927\n",
      "<class 'pandas.core.frame.DataFrame'>\n",
      "RangeIndex: 16547927 entries, 0 to 16547926\n",
      "Data columns (total 4 columns):\n",
      "ID                int64\n",
      "t                 float64\n",
      "variable_name     object\n",
      "variable_value    object\n",
      "dtypes: float64(1), int64(1), object(2)\n",
      "memory usage: 505.0+ MB\n",
      "\n",
      "benchmark,outcome=mortality,T=48.0,dt=1.0 46945544\n",
      "<class 'pandas.core.frame.DataFrame'>\n",
      "RangeIndex: 46945544 entries, 0 to 46945543\n",
      "Data columns (total 4 columns):\n",
      "ID                int64\n",
      "t                 float64\n",
      "variable_name     object\n",
      "variable_value    object\n",
      "dtypes: float64(1), int64(1), object(2)\n",
      "memory usage: 1.4+ GB\n",
      "\n"
     ]
    }
   ],
   "source": [
    "for d in [\n",
    "    'outcome=ARF,T=4.0,dt=1.0',\n",
    "    'outcome=ARF,T=12.0,dt=1.0',\n",
    "    'outcome=Shock,T=4.0,dt=1.0',\n",
    "    'outcome=Shock,T=12.0,dt=1.0',\n",
    "    'benchmark,outcome=mortality,T=48.0,dt=1.0',\n",
    "]:\n",
    "    df = pd.read_pickle('../data/processed/features/' + d + '/input_data.p')\n",
    "    print(d, len(df))\n",
    "    df.info()\n",
    "    print()"
   ]
  },
  {
   "cell_type": "code",
   "execution_count": null,
   "metadata": {},
   "outputs": [],
   "source": []
  }
 ],
 "metadata": {
  "kernelspec": {
   "display_name": "Python 3",
   "language": "python",
   "name": "python3"
  },
  "language_info": {
   "codemirror_mode": {
    "name": "ipython",
    "version": 3
   },
   "file_extension": ".py",
   "mimetype": "text/x-python",
   "name": "python",
   "nbconvert_exporter": "python",
   "pygments_lexer": "ipython3",
   "version": "3.5.2"
  }
 },
 "nbformat": 4,
 "nbformat_minor": 2
}
