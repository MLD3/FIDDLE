{
 "cells": [
  {
   "cell_type": "code",
   "execution_count": 1,
   "metadata": {},
   "outputs": [],
   "source": [
    "import pandas as pd\n",
    "import numpy as np\n",
    "import yaml\n",
    "\n",
    "data_path = yaml.full_load(open('../config.yaml'))['data_path']\n",
    "\n",
    "from matplotlib import pyplot as plt\n",
    "import matplotlib"
   ]
  },
  {
   "cell_type": "code",
   "execution_count": 2,
   "metadata": {},
   "outputs": [],
   "source": [
    "matplotlib.rcParams['figure.figsize'] = [8, 8]\n",
    "matplotlib.rcParams['font.size'] = 15"
   ]
  },
  {
   "cell_type": "code",
   "execution_count": 3,
   "metadata": {},
   "outputs": [],
   "source": [
    "def visualize_labels(df, task):\n",
    "    df['{}_ONSET_HOUR'.format(task)].plot.hist(bins=np.arange(-5, 75, 0.5), alpha=0.9)\n",
    "    plt.xlim(-4,100)\n",
    "    plt.xlabel('{} onset hour'.format(task))\n",
    "    plt.savefig('Onset_{}-histogram.png'.format(task), dpi=300)\n",
    "    plt.show()"
   ]
  },
  {
   "cell_type": "code",
   "execution_count": 4,
   "metadata": {},
   "outputs": [],
   "source": [
    "df_ARF   = pd.read_csv(data_path + 'labels/ARF.csv',   index_col='ICUSTAY_ID')\n",
    "df_Shock = pd.read_csv(data_path + 'labels/Shock.csv', index_col='ICUSTAY_ID')"
   ]
  },
  {
   "cell_type": "code",
   "execution_count": 5,
   "metadata": {},
   "outputs": [
    {
     "data": {
      "image/png": "[encoded data removed]",
      "text/plain": [
       "<Figure size 576x576 with 1 Axes>"
      ]
     },
     "metadata": {},
     "output_type": "display_data"
    },
    {
     "data": {
      "image/png": "[encoded data removed]",
      "text/plain": [
       "<Figure size 576x576 with 1 Axes>"
      ]
     },
     "metadata": {},
     "output_type": "display_data"
    }
   ],
   "source": [
    "visualize_labels(df_ARF, 'ARF')\n",
    "visualize_labels(df_Shock, 'Shock')"
   ]
  },
  {
   "cell_type": "markdown",
   "metadata": {},
   "source": [
    "---"
   ]
  },
  {
   "cell_type": "code",
   "execution_count": 7,
   "metadata": {},
   "outputs": [],
   "source": [
    "from datetime import timedelta\n",
    "cutoff_h = 4\n",
    "mimic3_path = yaml.full_load(open('config.yaml'))['mimic3_path']"
   ]
  },
  {
   "cell_type": "code",
   "execution_count": 8,
   "metadata": {},
   "outputs": [],
   "source": [
    "patients = pd.read_csv(mimic3_path + 'PATIENTS.csv', parse_dates=['DOB', 'DOD'], usecols=['SUBJECT_ID', 'DOB', 'DOD'])\n",
    "admissions = pd.read_csv(mimic3_path + 'ADMISSIONS.csv', parse_dates=['DEATHTIME'], usecols=['SUBJECT_ID', 'HADM_ID', 'DEATHTIME'])\n",
    "examples = pd.read_csv(data_path + 'prep/icustays_MV.csv', parse_dates=['INTIME', 'OUTTIME']).sort_values(by='ICUSTAY_ID') # Only Metavision\n",
    "\n",
    "examples = pd.merge(examples, patients, on='SUBJECT_ID', how='left')\n",
    "examples = pd.merge(examples, admissions, on=['SUBJECT_ID', 'HADM_ID'], how='left')\n",
    "examples['AGE'] = examples.apply(lambda x: (x['INTIME'] - x['DOB']).total_seconds(), axis=1) / 3600 / 24 / 365.25\n",
    "\n",
    "examples['LOS'] = examples['LOS'] * 24 # Convert to hours"
   ]
  },
  {
   "cell_type": "code",
   "execution_count": 9,
   "metadata": {},
   "outputs": [
    {
     "data": {
      "text/html": [
       "<div>\n",
       "<style scoped>\n",
       "    .dataframe tbody tr th:only-of-type {\n",
       "        vertical-align: middle;\n",
       "    }\n",
       "\n",
       "    .dataframe tbody tr th {\n",
       "        vertical-align: top;\n",
       "    }\n",
       "\n",
       "    .dataframe thead th {\n",
       "        text-align: right;\n",
       "    }\n",
       "</style>\n",
       "<table border=\"1\" class=\"dataframe\">\n",
       "  <thead>\n",
       "    <tr style=\"text-align: right;\">\n",
       "      <th></th>\n",
       "      <th>LOS</th>\n",
       "    </tr>\n",
       "  </thead>\n",
       "  <tbody>\n",
       "    <tr>\n",
       "      <th>count</th>\n",
       "      <td>23620.000000</td>\n",
       "    </tr>\n",
       "    <tr>\n",
       "      <th>mean</th>\n",
       "      <td>3.593499</td>\n",
       "    </tr>\n",
       "    <tr>\n",
       "      <th>std</th>\n",
       "      <td>4.971162</td>\n",
       "    </tr>\n",
       "    <tr>\n",
       "      <th>min</th>\n",
       "      <td>0.000400</td>\n",
       "    </tr>\n",
       "    <tr>\n",
       "      <th>25%</th>\n",
       "      <td>1.151600</td>\n",
       "    </tr>\n",
       "    <tr>\n",
       "      <th>50%</th>\n",
       "      <td>1.996050</td>\n",
       "    </tr>\n",
       "    <tr>\n",
       "      <th>75%</th>\n",
       "      <td>3.835000</td>\n",
       "    </tr>\n",
       "    <tr>\n",
       "      <th>max</th>\n",
       "      <td>101.739000</td>\n",
       "    </tr>\n",
       "  </tbody>\n",
       "</table>\n",
       "</div>"
      ],
      "text/plain": [
       "                LOS\n",
       "count  23620.000000\n",
       "mean       3.593499\n",
       "std        4.971162\n",
       "min        0.000400\n",
       "25%        1.151600\n",
       "50%        1.996050\n",
       "75%        3.835000\n",
       "max      101.739000"
      ]
     },
     "execution_count": 9,
     "metadata": {},
     "output_type": "execute_result"
    }
   ],
   "source": [
    "(examples[['LOS']] / 24.).describe()"
   ]
  },
  {
   "cell_type": "code",
   "execution_count": 10,
   "metadata": {},
   "outputs": [],
   "source": [
    "# Remove non-adults\n",
    "min_age = 18\n",
    "max_age = np.inf # no max age\n",
    "examples = examples[(examples.AGE >= min_age) & (examples.AGE <= max_age)]"
   ]
  },
  {
   "cell_type": "code",
   "execution_count": 11,
   "metadata": {},
   "outputs": [
    {
     "data": {
      "text/plain": [
       "23593"
      ]
     },
     "execution_count": 11,
     "metadata": {},
     "output_type": "execute_result"
    }
   ],
   "source": [
    "examples['ICUSTAY_ID'].nunique()"
   ]
  },
  {
   "cell_type": "code",
   "execution_count": 12,
   "metadata": {},
   "outputs": [
    {
     "data": {
      "text/html": [
       "<div>\n",
       "<style scoped>\n",
       "    .dataframe tbody tr th:only-of-type {\n",
       "        vertical-align: middle;\n",
       "    }\n",
       "\n",
       "    .dataframe tbody tr th {\n",
       "        vertical-align: top;\n",
       "    }\n",
       "\n",
       "    .dataframe thead th {\n",
       "        text-align: right;\n",
       "    }\n",
       "</style>\n",
       "<table border=\"1\" class=\"dataframe\">\n",
       "  <thead>\n",
       "    <tr style=\"text-align: right;\">\n",
       "      <th></th>\n",
       "      <th>ICUSTAY_ID</th>\n",
       "      <th>DEATHTIME</th>\n",
       "      <th>INTIME</th>\n",
       "    </tr>\n",
       "  </thead>\n",
       "  <tbody>\n",
       "    <tr>\n",
       "      <th>10</th>\n",
       "      <td>200038</td>\n",
       "      <td>NaT</td>\n",
       "      <td>2143-10-24 20:35:24</td>\n",
       "    </tr>\n",
       "    <tr>\n",
       "      <th>11</th>\n",
       "      <td>200040</td>\n",
       "      <td>NaT</td>\n",
       "      <td>2153-10-24 16:01:41</td>\n",
       "    </tr>\n",
       "    <tr>\n",
       "      <th>12</th>\n",
       "      <td>200049</td>\n",
       "      <td>NaT</td>\n",
       "      <td>2118-08-28 08:56:44</td>\n",
       "    </tr>\n",
       "    <tr>\n",
       "      <th>13</th>\n",
       "      <td>200050</td>\n",
       "      <td>NaT</td>\n",
       "      <td>2149-07-14 17:51:18</td>\n",
       "    </tr>\n",
       "    <tr>\n",
       "      <th>14</th>\n",
       "      <td>200053</td>\n",
       "      <td>NaT</td>\n",
       "      <td>2166-02-27 18:45:49</td>\n",
       "    </tr>\n",
       "    <tr>\n",
       "      <th>15</th>\n",
       "      <td>200055</td>\n",
       "      <td>NaT</td>\n",
       "      <td>2179-03-17 09:59:19</td>\n",
       "    </tr>\n",
       "    <tr>\n",
       "      <th>16</th>\n",
       "      <td>200061</td>\n",
       "      <td>NaT</td>\n",
       "      <td>2134-01-23 16:38:46</td>\n",
       "    </tr>\n",
       "    <tr>\n",
       "      <th>17</th>\n",
       "      <td>200063</td>\n",
       "      <td>NaT</td>\n",
       "      <td>2141-03-09 23:20:49</td>\n",
       "    </tr>\n",
       "    <tr>\n",
       "      <th>18</th>\n",
       "      <td>200067</td>\n",
       "      <td>NaT</td>\n",
       "      <td>2126-06-29 18:45:37</td>\n",
       "    </tr>\n",
       "    <tr>\n",
       "      <th>19</th>\n",
       "      <td>200069</td>\n",
       "      <td>NaT</td>\n",
       "      <td>2195-12-12 02:12:35</td>\n",
       "    </tr>\n",
       "    <tr>\n",
       "      <th>20</th>\n",
       "      <td>200072</td>\n",
       "      <td>NaT</td>\n",
       "      <td>2106-03-03 19:39:49</td>\n",
       "    </tr>\n",
       "    <tr>\n",
       "      <th>21</th>\n",
       "      <td>200075</td>\n",
       "      <td>NaT</td>\n",
       "      <td>2159-09-23 00:13:20</td>\n",
       "    </tr>\n",
       "    <tr>\n",
       "      <th>22</th>\n",
       "      <td>200079</td>\n",
       "      <td>NaT</td>\n",
       "      <td>2158-01-02 20:54:10</td>\n",
       "    </tr>\n",
       "    <tr>\n",
       "      <th>23</th>\n",
       "      <td>200081</td>\n",
       "      <td>NaT</td>\n",
       "      <td>2142-03-01 16:46:10</td>\n",
       "    </tr>\n",
       "    <tr>\n",
       "      <th>24</th>\n",
       "      <td>200087</td>\n",
       "      <td>NaT</td>\n",
       "      <td>2196-08-30 11:19:49</td>\n",
       "    </tr>\n",
       "    <tr>\n",
       "      <th>25</th>\n",
       "      <td>200094</td>\n",
       "      <td>NaT</td>\n",
       "      <td>2198-06-21 12:27:37</td>\n",
       "    </tr>\n",
       "    <tr>\n",
       "      <th>26</th>\n",
       "      <td>200095</td>\n",
       "      <td>2113-10-31 00:20:00</td>\n",
       "      <td>2113-10-27 15:23:21</td>\n",
       "    </tr>\n",
       "    <tr>\n",
       "      <th>27</th>\n",
       "      <td>200098</td>\n",
       "      <td>NaT</td>\n",
       "      <td>2136-03-27 11:50:32</td>\n",
       "    </tr>\n",
       "    <tr>\n",
       "      <th>28</th>\n",
       "      <td>200099</td>\n",
       "      <td>NaT</td>\n",
       "      <td>2163-06-21 19:49:09</td>\n",
       "    </tr>\n",
       "    <tr>\n",
       "      <th>29</th>\n",
       "      <td>200104</td>\n",
       "      <td>NaT</td>\n",
       "      <td>2198-02-24 12:33:19</td>\n",
       "    </tr>\n",
       "    <tr>\n",
       "      <th>30</th>\n",
       "      <td>200105</td>\n",
       "      <td>2104-10-23 00:01:00</td>\n",
       "      <td>2104-10-23 18:30:01</td>\n",
       "    </tr>\n",
       "    <tr>\n",
       "      <th>31</th>\n",
       "      <td>200108</td>\n",
       "      <td>NaT</td>\n",
       "      <td>2110-12-10 01:18:17</td>\n",
       "    </tr>\n",
       "    <tr>\n",
       "      <th>32</th>\n",
       "      <td>200116</td>\n",
       "      <td>NaT</td>\n",
       "      <td>2198-03-19 20:16:11</td>\n",
       "    </tr>\n",
       "    <tr>\n",
       "      <th>33</th>\n",
       "      <td>200126</td>\n",
       "      <td>NaT</td>\n",
       "      <td>2126-12-14 11:29:28</td>\n",
       "    </tr>\n",
       "    <tr>\n",
       "      <th>34</th>\n",
       "      <td>200131</td>\n",
       "      <td>NaT</td>\n",
       "      <td>2176-10-30 12:05:18</td>\n",
       "    </tr>\n",
       "    <tr>\n",
       "      <th>35</th>\n",
       "      <td>200133</td>\n",
       "      <td>NaT</td>\n",
       "      <td>2172-02-14 14:53:10</td>\n",
       "    </tr>\n",
       "    <tr>\n",
       "      <th>36</th>\n",
       "      <td>200135</td>\n",
       "      <td>NaT</td>\n",
       "      <td>2145-10-12 18:46:47</td>\n",
       "    </tr>\n",
       "    <tr>\n",
       "      <th>37</th>\n",
       "      <td>200138</td>\n",
       "      <td>NaT</td>\n",
       "      <td>2190-07-28 19:41:12</td>\n",
       "    </tr>\n",
       "    <tr>\n",
       "      <th>38</th>\n",
       "      <td>200141</td>\n",
       "      <td>NaT</td>\n",
       "      <td>2143-10-15 11:24:29</td>\n",
       "    </tr>\n",
       "    <tr>\n",
       "      <th>39</th>\n",
       "      <td>200143</td>\n",
       "      <td>2191-04-28 14:31:00</td>\n",
       "      <td>2191-04-01 21:45:49</td>\n",
       "    </tr>\n",
       "    <tr>\n",
       "      <th>...</th>\n",
       "      <td>...</td>\n",
       "      <td>...</td>\n",
       "      <td>...</td>\n",
       "    </tr>\n",
       "    <tr>\n",
       "      <th>23590</th>\n",
       "      <td>299867</td>\n",
       "      <td>2186-08-02 02:31:00</td>\n",
       "      <td>2186-07-15 16:55:40</td>\n",
       "    </tr>\n",
       "    <tr>\n",
       "      <th>23591</th>\n",
       "      <td>299871</td>\n",
       "      <td>NaT</td>\n",
       "      <td>2170-02-02 22:33:55</td>\n",
       "    </tr>\n",
       "    <tr>\n",
       "      <th>23592</th>\n",
       "      <td>299872</td>\n",
       "      <td>NaT</td>\n",
       "      <td>2192-02-22 14:52:52</td>\n",
       "    </tr>\n",
       "    <tr>\n",
       "      <th>23593</th>\n",
       "      <td>299875</td>\n",
       "      <td>NaT</td>\n",
       "      <td>2155-06-05 15:59:09</td>\n",
       "    </tr>\n",
       "    <tr>\n",
       "      <th>23594</th>\n",
       "      <td>299879</td>\n",
       "      <td>NaT</td>\n",
       "      <td>2174-08-15 09:23:17</td>\n",
       "    </tr>\n",
       "    <tr>\n",
       "      <th>23595</th>\n",
       "      <td>299880</td>\n",
       "      <td>NaT</td>\n",
       "      <td>2159-06-02 20:04:41</td>\n",
       "    </tr>\n",
       "    <tr>\n",
       "      <th>23596</th>\n",
       "      <td>299883</td>\n",
       "      <td>NaT</td>\n",
       "      <td>2165-05-24 17:07:19</td>\n",
       "    </tr>\n",
       "    <tr>\n",
       "      <th>23597</th>\n",
       "      <td>299889</td>\n",
       "      <td>2172-06-09 04:30:00</td>\n",
       "      <td>2172-05-30 09:05:45</td>\n",
       "    </tr>\n",
       "    <tr>\n",
       "      <th>23598</th>\n",
       "      <td>299898</td>\n",
       "      <td>NaT</td>\n",
       "      <td>2169-09-16 04:29:52</td>\n",
       "    </tr>\n",
       "    <tr>\n",
       "      <th>23599</th>\n",
       "      <td>299901</td>\n",
       "      <td>NaT</td>\n",
       "      <td>2186-11-26 17:23:47</td>\n",
       "    </tr>\n",
       "    <tr>\n",
       "      <th>23600</th>\n",
       "      <td>299904</td>\n",
       "      <td>NaT</td>\n",
       "      <td>2187-01-21 00:25:29</td>\n",
       "    </tr>\n",
       "    <tr>\n",
       "      <th>23601</th>\n",
       "      <td>299909</td>\n",
       "      <td>NaT</td>\n",
       "      <td>2182-04-25 04:08:35</td>\n",
       "    </tr>\n",
       "    <tr>\n",
       "      <th>23602</th>\n",
       "      <td>299913</td>\n",
       "      <td>NaT</td>\n",
       "      <td>2121-07-21 02:08:50</td>\n",
       "    </tr>\n",
       "    <tr>\n",
       "      <th>23603</th>\n",
       "      <td>299914</td>\n",
       "      <td>NaT</td>\n",
       "      <td>2141-08-16 23:08:56</td>\n",
       "    </tr>\n",
       "    <tr>\n",
       "      <th>23604</th>\n",
       "      <td>299921</td>\n",
       "      <td>NaT</td>\n",
       "      <td>2103-05-08 09:43:51</td>\n",
       "    </tr>\n",
       "    <tr>\n",
       "      <th>23605</th>\n",
       "      <td>299923</td>\n",
       "      <td>2158-12-13 17:36:00</td>\n",
       "      <td>2158-12-13 13:14:38</td>\n",
       "    </tr>\n",
       "    <tr>\n",
       "      <th>23606</th>\n",
       "      <td>299928</td>\n",
       "      <td>NaT</td>\n",
       "      <td>2137-11-06 17:23:04</td>\n",
       "    </tr>\n",
       "    <tr>\n",
       "      <th>23607</th>\n",
       "      <td>299929</td>\n",
       "      <td>NaT</td>\n",
       "      <td>2145-01-14 22:33:54</td>\n",
       "    </tr>\n",
       "    <tr>\n",
       "      <th>23608</th>\n",
       "      <td>299930</td>\n",
       "      <td>NaT</td>\n",
       "      <td>2194-07-04 12:50:24</td>\n",
       "    </tr>\n",
       "    <tr>\n",
       "      <th>23609</th>\n",
       "      <td>299933</td>\n",
       "      <td>NaT</td>\n",
       "      <td>2105-08-03 14:40:37</td>\n",
       "    </tr>\n",
       "    <tr>\n",
       "      <th>23610</th>\n",
       "      <td>299943</td>\n",
       "      <td>NaT</td>\n",
       "      <td>2151-08-25 03:29:06</td>\n",
       "    </tr>\n",
       "    <tr>\n",
       "      <th>23611</th>\n",
       "      <td>299947</td>\n",
       "      <td>NaT</td>\n",
       "      <td>2116-11-27 21:10:23</td>\n",
       "    </tr>\n",
       "    <tr>\n",
       "      <th>23612</th>\n",
       "      <td>299948</td>\n",
       "      <td>NaT</td>\n",
       "      <td>2119-05-25 13:47:31</td>\n",
       "    </tr>\n",
       "    <tr>\n",
       "      <th>23613</th>\n",
       "      <td>299949</td>\n",
       "      <td>NaT</td>\n",
       "      <td>2118-07-16 05:42:45</td>\n",
       "    </tr>\n",
       "    <tr>\n",
       "      <th>23614</th>\n",
       "      <td>299950</td>\n",
       "      <td>NaT</td>\n",
       "      <td>2122-06-20 13:25:29</td>\n",
       "    </tr>\n",
       "    <tr>\n",
       "      <th>23615</th>\n",
       "      <td>299956</td>\n",
       "      <td>NaT</td>\n",
       "      <td>2177-05-29 07:38:54</td>\n",
       "    </tr>\n",
       "    <tr>\n",
       "      <th>23616</th>\n",
       "      <td>299957</td>\n",
       "      <td>NaT</td>\n",
       "      <td>2132-10-13 10:41:17</td>\n",
       "    </tr>\n",
       "    <tr>\n",
       "      <th>23617</th>\n",
       "      <td>299962</td>\n",
       "      <td>NaT</td>\n",
       "      <td>2195-11-25 19:04:06</td>\n",
       "    </tr>\n",
       "    <tr>\n",
       "      <th>23618</th>\n",
       "      <td>299979</td>\n",
       "      <td>NaT</td>\n",
       "      <td>2127-12-05 02:16:42</td>\n",
       "    </tr>\n",
       "    <tr>\n",
       "      <th>23619</th>\n",
       "      <td>299998</td>\n",
       "      <td>NaT</td>\n",
       "      <td>2181-07-05 18:47:40</td>\n",
       "    </tr>\n",
       "  </tbody>\n",
       "</table>\n",
       "<p>23583 rows × 3 columns</p>\n",
       "</div>"
      ],
      "text/plain": [
       "       ICUSTAY_ID           DEATHTIME              INTIME\n",
       "10         200038                 NaT 2143-10-24 20:35:24\n",
       "11         200040                 NaT 2153-10-24 16:01:41\n",
       "12         200049                 NaT 2118-08-28 08:56:44\n",
       "13         200050                 NaT 2149-07-14 17:51:18\n",
       "14         200053                 NaT 2166-02-27 18:45:49\n",
       "15         200055                 NaT 2179-03-17 09:59:19\n",
       "16         200061                 NaT 2134-01-23 16:38:46\n",
       "17         200063                 NaT 2141-03-09 23:20:49\n",
       "18         200067                 NaT 2126-06-29 18:45:37\n",
       "19         200069                 NaT 2195-12-12 02:12:35\n",
       "20         200072                 NaT 2106-03-03 19:39:49\n",
       "21         200075                 NaT 2159-09-23 00:13:20\n",
       "22         200079                 NaT 2158-01-02 20:54:10\n",
       "23         200081                 NaT 2142-03-01 16:46:10\n",
       "24         200087                 NaT 2196-08-30 11:19:49\n",
       "25         200094                 NaT 2198-06-21 12:27:37\n",
       "26         200095 2113-10-31 00:20:00 2113-10-27 15:23:21\n",
       "27         200098                 NaT 2136-03-27 11:50:32\n",
       "28         200099                 NaT 2163-06-21 19:49:09\n",
       "29         200104                 NaT 2198-02-24 12:33:19\n",
       "30         200105 2104-10-23 00:01:00 2104-10-23 18:30:01\n",
       "31         200108                 NaT 2110-12-10 01:18:17\n",
       "32         200116                 NaT 2198-03-19 20:16:11\n",
       "33         200126                 NaT 2126-12-14 11:29:28\n",
       "34         200131                 NaT 2176-10-30 12:05:18\n",
       "35         200133                 NaT 2172-02-14 14:53:10\n",
       "36         200135                 NaT 2145-10-12 18:46:47\n",
       "37         200138                 NaT 2190-07-28 19:41:12\n",
       "38         200141                 NaT 2143-10-15 11:24:29\n",
       "39         200143 2191-04-28 14:31:00 2191-04-01 21:45:49\n",
       "...           ...                 ...                 ...\n",
       "23590      299867 2186-08-02 02:31:00 2186-07-15 16:55:40\n",
       "23591      299871                 NaT 2170-02-02 22:33:55\n",
       "23592      299872                 NaT 2192-02-22 14:52:52\n",
       "23593      299875                 NaT 2155-06-05 15:59:09\n",
       "23594      299879                 NaT 2174-08-15 09:23:17\n",
       "23595      299880                 NaT 2159-06-02 20:04:41\n",
       "23596      299883                 NaT 2165-05-24 17:07:19\n",
       "23597      299889 2172-06-09 04:30:00 2172-05-30 09:05:45\n",
       "23598      299898                 NaT 2169-09-16 04:29:52\n",
       "23599      299901                 NaT 2186-11-26 17:23:47\n",
       "23600      299904                 NaT 2187-01-21 00:25:29\n",
       "23601      299909                 NaT 2182-04-25 04:08:35\n",
       "23602      299913                 NaT 2121-07-21 02:08:50\n",
       "23603      299914                 NaT 2141-08-16 23:08:56\n",
       "23604      299921                 NaT 2103-05-08 09:43:51\n",
       "23605      299923 2158-12-13 17:36:00 2158-12-13 13:14:38\n",
       "23606      299928                 NaT 2137-11-06 17:23:04\n",
       "23607      299929                 NaT 2145-01-14 22:33:54\n",
       "23608      299930                 NaT 2194-07-04 12:50:24\n",
       "23609      299933                 NaT 2105-08-03 14:40:37\n",
       "23610      299943                 NaT 2151-08-25 03:29:06\n",
       "23611      299947                 NaT 2116-11-27 21:10:23\n",
       "23612      299948                 NaT 2119-05-25 13:47:31\n",
       "23613      299949                 NaT 2118-07-16 05:42:45\n",
       "23614      299950                 NaT 2122-06-20 13:25:29\n",
       "23615      299956                 NaT 2177-05-29 07:38:54\n",
       "23616      299957                 NaT 2132-10-13 10:41:17\n",
       "23617      299962                 NaT 2195-11-25 19:04:06\n",
       "23618      299979                 NaT 2127-12-05 02:16:42\n",
       "23619      299998                 NaT 2181-07-05 18:47:40\n",
       "\n",
       "[23583 rows x 3 columns]"
      ]
     },
     "execution_count": 12,
     "metadata": {},
     "output_type": "execute_result"
    }
   ],
   "source": [
    "examples[['ICUSTAY_ID', 'DEATHTIME', 'INTIME']].iloc[10:]"
   ]
  },
  {
   "cell_type": "code",
   "execution_count": 13,
   "metadata": {},
   "outputs": [
    {
     "data": {
      "text/plain": [
       "27"
      ]
     },
     "execution_count": 13,
     "metadata": {},
     "output_type": "execute_result"
    }
   ],
   "source": [
    "# Death time < intime\n",
    "sum((examples['DEATHTIME'] - examples['INTIME']).dt.total_seconds() < 0)"
   ]
  },
  {
   "cell_type": "code",
   "execution_count": 14,
   "metadata": {},
   "outputs": [
    {
     "data": {
      "text/plain": [
       "count    2.359300e+04\n",
       "mean    -7.175857e-06\n",
       "std      6.949819e-04\n",
       "min     -1.200000e-03\n",
       "25%     -6.111111e-04\n",
       "50%     -7.105427e-15\n",
       "75%      5.888889e-04\n",
       "max      1.188889e-03\n",
       "dtype: float64"
      ]
     },
     "execution_count": 14,
     "metadata": {},
     "output_type": "execute_result"
    }
   ],
   "source": [
    "# LOS vs OUTTIME - INTIME\n",
    "((examples['OUTTIME'] - examples['INTIME']).dt.total_seconds() / 3600 - examples['LOS']).describe()"
   ]
  },
  {
   "cell_type": "code",
   "execution_count": 15,
   "metadata": {},
   "outputs": [
    {
     "data": {
      "image/png": "[encoded data removed]",
      "text/plain": [
       "<Figure size 576x576 with 1 Axes>"
      ]
     },
     "metadata": {},
     "output_type": "display_data"
    }
   ],
   "source": [
    "((examples['DEATHTIME'] - examples['INTIME']).dt.total_seconds() / 3600).hist(bins=np.arange(-5, 200, 1), alpha=0.9)\n",
    "plt.xlabel('Survival time (h)')\n",
    "plt.ylabel('Number of ICU stays')\n",
    "plt.text(80, 30, 'Death <= 200h: {}\\nDeath > 200h: {} (not shown) \\nDeath = null: {} (not shown)' \\\n",
    "         .format(sum(((examples['DEATHTIME'] - examples['INTIME']).dt.total_seconds() / 3600) <= 200), \n",
    "                 sum(((examples['DEATHTIME'] - examples['INTIME']).dt.total_seconds() / 3600) > 200),\n",
    "                sum(examples['DEATHTIME'].isnull())))\n",
    "plt.show()"
   ]
  },
  {
   "cell_type": "code",
   "execution_count": 16,
   "metadata": {},
   "outputs": [
    {
     "data": {
      "text/plain": [
       "23593"
      ]
     },
     "execution_count": 16,
     "metadata": {},
     "output_type": "execute_result"
    }
   ],
   "source": [
    "examples['ICUSTAY_ID'].nunique()"
   ]
  },
  {
   "cell_type": "code",
   "execution_count": 17,
   "metadata": {},
   "outputs": [
    {
     "data": {
      "text/plain": [
       "(21439, 2154)"
      ]
     },
     "execution_count": 17,
     "metadata": {},
     "output_type": "execute_result"
    }
   ],
   "source": [
    "sum((examples['LOS']) <= 200), sum((examples['LOS']) > 200)"
   ]
  },
  {
   "cell_type": "code",
   "execution_count": 18,
   "metadata": {},
   "outputs": [
    {
     "data": {
      "image/png": "[encoded data removed]",
      "text/plain": [
       "<Figure size 576x576 with 1 Axes>"
      ]
     },
     "metadata": {},
     "output_type": "display_data"
    }
   ],
   "source": [
    "(examples['LOS']).hist(bins=np.arange(-5, 200, 1), alpha=0.9)\n",
    "plt.xlabel('Length of stay (h)')\n",
    "plt.ylabel('Number of ICU stays')\n",
    "plt.text(80, 500, 'LOS <= 200h: {}\\nLOS > 200h: {} (not shown)'.format(sum((examples['LOS']) <= 200), sum((examples['LOS']) > 200)))\n",
    "plt.show()"
   ]
  },
  {
   "cell_type": "code",
   "execution_count": 19,
   "metadata": {},
   "outputs": [],
   "source": [
    "# Remove died before cutoff hour\n",
    "examples = examples[(examples.DEATHTIME >= examples.INTIME + timedelta(hours=cutoff_h)) | (examples.DEATHTIME.isnull())]"
   ]
  },
  {
   "cell_type": "code",
   "execution_count": 20,
   "metadata": {},
   "outputs": [],
   "source": [
    "# Remove LOS < cutoff hour\n",
    "examples = examples[examples['LOS'] >= cutoff_h]"
   ]
  },
  {
   "cell_type": "code",
   "execution_count": null,
   "metadata": {},
   "outputs": [],
   "source": []
  }
 ],
 "metadata": {
  "kernelspec": {
   "display_name": "Python 3",
   "language": "python",
   "name": "python3"
  },
  "language_info": {
   "codemirror_mode": {
    "name": "ipython",
    "version": 3
   },
   "file_extension": ".py",
   "mimetype": "text/x-python",
   "name": "python",
   "nbconvert_exporter": "python",
   "pygments_lexer": "ipython3",
   "version": "3.6.5"
  }
 },
 "nbformat": 4,
 "nbformat_minor": 2
}
