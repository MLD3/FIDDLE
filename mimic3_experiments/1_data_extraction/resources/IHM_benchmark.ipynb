{
 "cells": [
  {
   "cell_type": "markdown",
   "metadata": {},
   "source": [
    "Multitask benchmark: https://www.nature.com/articles/s41597-019-0103-9"
   ]
  },
  {
   "cell_type": "code",
   "execution_count": 1,
   "metadata": {},
   "outputs": [],
   "source": [
    "import yaml\n",
    "with open('../../config.yaml') as f:\n",
    "    config = yaml.full_load(f)\n",
    "\n",
    "data_path = config['data_path']"
   ]
  },
  {
   "cell_type": "code",
   "execution_count": 2,
   "metadata": {},
   "outputs": [],
   "source": [
    "import pandas as pd\n",
    "from collections import defaultdict"
   ]
  },
  {
   "cell_type": "code",
   "execution_count": 3,
   "metadata": {},
   "outputs": [],
   "source": [
    "df_train = pd.read_csv('train_listfile.csv')\n",
    "df_val   = pd.read_csv('val_listfile.csv')\n",
    "df_test  = pd.read_csv('test_listfile.csv')"
   ]
  },
  {
   "cell_type": "code",
   "execution_count": 4,
   "metadata": {},
   "outputs": [
    {
     "data": {
      "text/plain": [
       "0.13534500374633882"
      ]
     },
     "execution_count": 4,
     "metadata": {},
     "output_type": "execute_result"
    }
   ],
   "source": [
    "df_train['y_true'].mean()"
   ]
  },
  {
   "cell_type": "markdown",
   "metadata": {},
   "source": [
    "## Removing non-metavision ICU stays"
   ]
  },
  {
   "cell_type": "code",
   "execution_count": 5,
   "metadata": {},
   "outputs": [],
   "source": [
    "icustays = pd.read_csv('all_stays.csv')\n",
    "icustays = icustays.sort_values(by=['SUBJECT_ID', 'INTIME', 'OUTTIME']).reset_index(drop=True)\n",
    "metavision = icustays[icustays['DBSOURCE'] == 'metavision']['ICUSTAY_ID']"
   ]
  },
  {
   "cell_type": "code",
   "execution_count": 6,
   "metadata": {},
   "outputs": [],
   "source": [
    "stays_by_subjects = defaultdict(list)\n",
    "for i, (j, k) in icustays[['SUBJECT_ID', 'ICUSTAY_ID']].iterrows():\n",
    "    stays_by_subjects[j].append(k)"
   ]
  },
  {
   "cell_type": "code",
   "execution_count": 8,
   "metadata": {},
   "outputs": [],
   "source": [
    "my_labels = pd.read_csv('../' + data_path + 'population/mortality_48.0h.csv').set_index('ID')"
   ]
  },
  {
   "cell_type": "code",
   "execution_count": 9,
   "metadata": {},
   "outputs": [],
   "source": [
    "df_out = []\n",
    "for part, df_part in zip(['train', 'val', 'test'], [df_train, df_val, df_test]):\n",
    "    for i, (name, y) in df_part.iterrows():\n",
    "        try:\n",
    "            ID, ep, _ = name.split('_')\n",
    "            ID = int(ID)\n",
    "            ep = int(ep[7:]) - 1\n",
    "            stay_ID = stays_by_subjects[ID][ep]\n",
    "            if stay_ID in metavision.values and stay_ID in my_labels.index:\n",
    "                # Only keep patients that are recorded using metavision that have not died by 48 hour\n",
    "                df_out.append((stay_ID, name, part, y, y))\n",
    "                my_y = my_labels.loc[stay_ID, 'mortality_LABEL']\n",
    "            else:\n",
    "                continue\n",
    "        except:\n",
    "            print(name, ID, stay_ID, part, y, my_y)"
   ]
  },
  {
   "cell_type": "code",
   "execution_count": 10,
   "metadata": {},
   "outputs": [],
   "source": [
    "df_out = pd.DataFrame(df_out, columns=['ID', 'stay', 'partition', 'mortality_LABEL', 'y_true'])"
   ]
  },
  {
   "cell_type": "code",
   "execution_count": 11,
   "metadata": {},
   "outputs": [],
   "source": [
    "df_out = df_out.sort_values(by='ID')"
   ]
  },
  {
   "cell_type": "code",
   "execution_count": 12,
   "metadata": {},
   "outputs": [
    {
     "data": {
      "text/plain": [
       "8577"
      ]
     },
     "execution_count": 12,
     "metadata": {},
     "output_type": "execute_result"
    }
   ],
   "source": [
    "len(df_out)"
   ]
  },
  {
   "cell_type": "code",
   "execution_count": 13,
   "metadata": {},
   "outputs": [],
   "source": [
    "df_out.to_csv('../' + data_path + 'population/pop.mortality_benchmark.csv', index=False)"
   ]
  },
  {
   "cell_type": "code",
   "execution_count": 14,
   "metadata": {},
   "outputs": [
    {
     "data": {
      "text/plain": [
       "0.12020519995336365"
      ]
     },
     "execution_count": 14,
     "metadata": {},
     "output_type": "execute_result"
    }
   ],
   "source": [
    "df_out['mortality_LABEL'].mean()"
   ]
  },
  {
   "cell_type": "code",
   "execution_count": null,
   "metadata": {},
   "outputs": [],
   "source": []
  }
 ],
 "metadata": {
  "kernelspec": {
   "display_name": "Python 3",
   "language": "python",
   "name": "python3"
  },
  "language_info": {
   "codemirror_mode": {
    "name": "ipython",
    "version": 3
   },
   "file_extension": ".py",
   "mimetype": "text/x-python",
   "name": "python",
   "nbconvert_exporter": "python",
   "pygments_lexer": "ipython3",
   "version": "3.5.2"
  }
 },
 "nbformat": 4,
 "nbformat_minor": 2
}
