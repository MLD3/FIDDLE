{
 "cells": [
  {
   "cell_type": "code",
   "execution_count": 1,
   "metadata": {},
   "outputs": [
    {
     "name": "stderr",
     "output_type": "stream",
     "text": [
      "/home/tangsp/mimic3_experiments/lib/data.py:14: YAMLLoadWarning: calling yaml.load() without Loader=... is deprecated, as the default Loader is unsafe. Please read https://msg.pyyaml.org/load for full details.\n",
      "  config = yaml.load(f)\n"
     ]
    }
   ],
   "source": [
    "from lib.data import _Mimic3Reader\n",
    "import pandas as pd\n",
    "import numpy as np"
   ]
  },
  {
   "cell_type": "code",
   "execution_count": 2,
   "metadata": {},
   "outputs": [],
   "source": [
    "timestep = 1.0"
   ]
  },
  {
   "cell_type": "code",
   "execution_count": 3,
   "metadata": {},
   "outputs": [
    {
     "name": "stdout",
     "output_type": "stream",
     "text": [
      "Finish reading data \t 2.28 s\n",
      "s (15873, 98)\n",
      "X (15873, 4, 4045)\n",
      "Finish reading data \t 11.16 s\n",
      "s (14174, 96)\n",
      "X (14174, 12, 4816)\n",
      "Finish reading data \t 3.49 s\n",
      "s (19342, 98)\n",
      "X (19342, 4, 4522)\n",
      "Finish reading data \t 10.31 s\n",
      "s (17588, 97)\n",
      "X (17588, 12, 5500)\n"
     ]
    }
   ],
   "source": [
    "for task in ['ARF', 'Shock']:\n",
    "    for duration in [4, 12]:\n",
    "        reader = _Mimic3Reader(task, duration, timestep)\n",
    "        print('s', reader.s.shape)\n",
    "        print('X', reader.X.shape)"
   ]
  },
  {
   "cell_type": "code",
   "execution_count": 4,
   "metadata": {},
   "outputs": [
    {
     "name": "stdout",
     "output_type": "stream",
     "text": [
      "Finish reading data \t 35.72 s\n",
      "s (11695, 97)\n",
      "X (11695, 48, 7411)\n"
     ]
    }
   ],
   "source": [
    "for task in ['mortality']:\n",
    "    for duration in [48]:\n",
    "        reader = _Mimic3Reader(task, duration, timestep)\n",
    "        print('s', reader.s.shape)\n",
    "        print('X', reader.X.shape)"
   ]
  },
  {
   "cell_type": "code",
   "execution_count": null,
   "metadata": {},
   "outputs": [],
   "source": []
  }
 ],
 "metadata": {
  "kernelspec": {
   "display_name": "Python 3",
   "language": "python",
   "name": "python3"
  },
  "language_info": {
   "codemirror_mode": {
    "name": "ipython",
    "version": 3
   },
   "file_extension": ".py",
   "mimetype": "text/x-python",
   "name": "python",
   "nbconvert_exporter": "python",
   "pygments_lexer": "ipython3",
   "version": "3.5.2"
  }
 },
 "nbformat": 4,
 "nbformat_minor": 2
}
