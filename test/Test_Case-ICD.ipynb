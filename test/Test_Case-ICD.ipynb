{
 "cells": [
  {
   "cell_type": "code",
   "execution_count": 8,
   "metadata": {},
   "outputs": [],
   "source": [
    "import pandas as pd\n",
    "df = pd.read_csv('./icd_data/input_data.csv')\n",
    "df.loc[df['variable_value'] == '71970', 'variable_value'] = '7197'\n",
    "df.to_csv('./icd_data/input_data.csv', index=False)"
   ]
  },
  {
   "cell_type": "code",
   "execution_count": 9,
   "metadata": {},
   "outputs": [
    {
     "name": "stdout",
     "output_type": "stream",
     "text": [
      "Input data file: ./icd_data/input_data.csv\n",
      "\n",
      "Input arguments:\n",
      "    T      = 4\n",
      "    dt     = 1.0\n",
      "    θ₁     = 0.001\n",
      "    θ₂     = 0.001\n",
      "    θ_freq = 1.0\n",
      "    k      = 3 ['min', 'max', 'mean']\n",
      "binarize = yes\n",
      "\n",
      "N = 53122\n",
      "L = 4\n",
      "\n",
      "\n",
      "================================================================================\n",
      "1) Pre-filter\n",
      "================================================================================\n",
      "Remove rows not in population\n",
      "Remove rows with t outside of [0, 4]\n",
      "Remove rare variables (<= 0.001)\n",
      "Total variables     : 1\n",
      "Rare variables      : 0\n",
      "Remaining variables : 1\n",
      "# rows (original)   : 569007\n",
      "# rows (filtered)   : 569007\n",
      "\n",
      "================================================================================\n",
      "2) Transform; 3) Post-filter\n",
      "================================================================================\n",
      "\n",
      "--------------------------------------------------------------------------------\n",
      "*) Detecting and parsing value types\n",
      "--------------------------------------------------------------------------------\n",
      "Saved as: ./icd_data/value_types.csv\n",
      "\n",
      "--------------------------------------------------------------------------------\n",
      "*) Separate time-invariant and time-dependent\n",
      "--------------------------------------------------------------------------------\n",
      "Variables (time-invariant): 1447\n",
      "Variables (time-dependent): 0\n",
      "# rows    (time-invariant): 1265903\n",
      "# rows    (time-dependent): 0\n",
      "\n",
      "--------------------------------------------------------------------------------\n",
      "2-A) Transform time-invariant data\n",
      "--------------------------------------------------------------------------------\n",
      "(N × ^d) table            :\t (53122, 1447)\n",
      "number of missing entries :\t 75601631 out of 76867534 total\n",
      "Time elapsed: 8.736094 seconds\n",
      "\n",
      "Output\n",
      "s_all, binary features    :\t (53122, 1447)\n",
      "Time elapsed: 115.795696 seconds\n",
      "\n",
      "--------------------------------------------------------------------------------\n",
      "3-A) Post-filter time-invariant data\n",
      "--------------------------------------------------------------------------------\n",
      "Original       : 1447\n",
      "Nearly-constant: 753\n",
      "Correlated     : 7\n",
      "Time elapsed: 116.175213 seconds\n",
      "\n",
      "Output\n",
      "s: shape=(53122, 687), density=0.034\n",
      "Total time: 116.547743 seconds\n",
      "\n"
     ]
    }
   ],
   "source": [
    "! PYTHONPATH=\"$PYTHONPATH:../\" \\\n",
    "python -m FIDDLE.run \\\n",
    "    --data_path='./icd_data/' \\\n",
    "    --population='./icd_data/pop.csv' \\\n",
    "    --T=4 --dt=1.0 \\\n",
    "    --theta_1=0.001 --theta_2=0.001 --theta_freq=1 \\\n",
    "    --stats_functions 'min' 'max' 'mean'"
   ]
  },
  {
   "cell_type": "code",
   "execution_count": null,
   "metadata": {},
   "outputs": [],
   "source": []
  },
  {
   "cell_type": "code",
   "execution_count": null,
   "metadata": {},
   "outputs": [],
   "source": []
  },
  {
   "cell_type": "code",
   "execution_count": null,
   "metadata": {},
   "outputs": [],
   "source": []
  },
  {
   "cell_type": "code",
   "execution_count": 1,
   "metadata": {},
   "outputs": [
    {
     "name": "stdout",
     "output_type": "stream",
     "text": [
      "Input data file: ./icd_test/input_data.csv\n",
      "\n",
      "Input arguments:\n",
      "    T      = 4\n",
      "    dt     = 1.0\n",
      "    θ₁     = 0.001\n",
      "    θ₂     = 0.001\n",
      "    θ_freq = 1.0\n",
      "    k      = 3 ['min', 'max', 'mean']\n",
      "binarize = yes\n",
      "\n",
      "N = 200\n",
      "L = 4\n",
      "\n",
      "\n",
      "================================================================================\n",
      "1) Pre-filter\n",
      "================================================================================\n",
      "Remove rows not in population\n",
      "Remove rows with t outside of [0, 4]\n",
      "Remove rare variables (<= 0.001)\n",
      "Total variables     : 1\n",
      "Rare variables      : 0\n",
      "Remaining variables : 1\n",
      "# rows (original)   : 1861\n",
      "# rows (filtered)   : 1861\n",
      "\n",
      "================================================================================\n",
      "2) Transform; 3) Post-filter\n",
      "================================================================================\n",
      "\n",
      "--------------------------------------------------------------------------------\n",
      "*) Detecting and parsing value types\n",
      "--------------------------------------------------------------------------------\n",
      "Saved as: ./icd_test/value_types.csv\n",
      "\n",
      "--------------------------------------------------------------------------------\n",
      "*) Separate time-invariant and time-dependent\n",
      "--------------------------------------------------------------------------------\n",
      "Variables (time-invariant): 455\n",
      "Variables (time-dependent): 0\n",
      "# rows    (time-invariant): 4205\n",
      "# rows    (time-dependent): 0\n",
      "\n",
      "--------------------------------------------------------------------------------\n",
      "2-A) Transform time-invariant data\n",
      "--------------------------------------------------------------------------------\n",
      "(N × ^d) table            :\t (200, 455)\n",
      "number of missing entries :\t 86795 out of 91000 total\n",
      "Time elapsed: 0.101392 seconds\n",
      "\n",
      "Output\n",
      "s_all, binary features    :\t (200, 455)\n",
      "Time elapsed: 1.779821 seconds\n",
      "\n",
      "--------------------------------------------------------------------------------\n",
      "3-A) Post-filter time-invariant data\n",
      "--------------------------------------------------------------------------------\n",
      "Original       : 455\n",
      "Nearly-constant: 0\n",
      "Correlated     : 87\n",
      "Time elapsed: 1.820592 seconds\n",
      "\n",
      "Output\n",
      "s: shape=(200, 368), density=0.055\n",
      "Total time: 1.827327 seconds\n",
      "\n"
     ]
    }
   ],
   "source": [
    "! PYTHONPATH=\"$PYTHONPATH:../\" \\\n",
    "python -m FIDDLE.run \\\n",
    "    --data_path='./icd_test/' \\\n",
    "    --population='./icd_test/pop.csv' \\\n",
    "    --T=4 --dt=1.0 \\\n",
    "    --theta_1=0.001 --theta_2=0.001 --theta_freq=1 \\\n",
    "    --stats_functions 'min' 'max' 'mean'"
   ]
  },
  {
   "cell_type": "code",
   "execution_count": 3,
   "metadata": {},
   "outputs": [],
   "source": [
    "import sparse\n",
    "s = sparse.load_npz('./icd_test/s.npz').todense()"
   ]
  },
  {
   "cell_type": "code",
   "execution_count": 4,
   "metadata": {},
   "outputs": [
    {
     "data": {
      "text/plain": [
       "(200, 368)"
      ]
     },
     "execution_count": 4,
     "metadata": {},
     "output_type": "execute_result"
    }
   ],
   "source": [
    "s.shape"
   ]
  },
  {
   "cell_type": "code",
   "execution_count": 5,
   "metadata": {},
   "outputs": [
    {
     "data": {
      "text/plain": [
       "array([[0, 0, 0, ..., 0, 0, 0],\n",
       "       [0, 0, 0, ..., 0, 0, 0],\n",
       "       [0, 0, 0, ..., 0, 0, 0],\n",
       "       ...,\n",
       "       [0, 1, 0, ..., 0, 0, 0],\n",
       "       [0, 1, 0, ..., 0, 0, 0],\n",
       "       [0, 1, 1, ..., 0, 0, 0]])"
      ]
     },
     "execution_count": 5,
     "metadata": {},
     "output_type": "execute_result"
    }
   ],
   "source": [
    "s"
   ]
  },
  {
   "cell_type": "code",
   "execution_count": 7,
   "metadata": {},
   "outputs": [],
   "source": [
    "import json\n",
    "names = json.load(open('./icd_test/s.feature_names.json', 'rb'))"
   ]
  },
  {
   "cell_type": "code",
   "execution_count": 8,
   "metadata": {},
   "outputs": [
    {
     "data": {
      "text/plain": [
       "368"
      ]
     },
     "execution_count": 8,
     "metadata": {},
     "output_type": "execute_result"
    }
   ],
   "source": [
    "len(names)"
   ]
  },
  {
   "cell_type": "code",
   "execution_count": null,
   "metadata": {},
   "outputs": [],
   "source": []
  }
 ],
 "metadata": {
  "kernelspec": {
   "display_name": "Python 3",
   "language": "python",
   "name": "python3"
  },
  "language_info": {
   "codemirror_mode": {
    "name": "ipython",
    "version": 3
   },
   "file_extension": ".py",
   "mimetype": "text/x-python",
   "name": "python",
   "nbconvert_exporter": "python",
   "pygments_lexer": "ipython3",
   "version": "3.7.6"
  }
 },
 "nbformat": 4,
 "nbformat_minor": 4
}
