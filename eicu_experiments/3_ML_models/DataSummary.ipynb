{
 "cells": [
  {
   "cell_type": "code",
   "execution_count": 1,
   "metadata": {
    "scrolled": true
   },
   "outputs": [],
   "source": [
    "from lib.data import _eICUReader\n",
    "import pandas as pd\n",
    "import numpy as np"
   ]
  },
  {
   "cell_type": "code",
   "execution_count": 2,
   "metadata": {},
   "outputs": [],
   "source": [
    "timestep = 1.0"
   ]
  },
  {
   "cell_type": "code",
   "execution_count": 3,
   "metadata": {},
   "outputs": [
    {
     "name": "stdout",
     "output_type": "stream",
     "text": [
      "Outcome ARF \t T 4\n",
      "Finish reading data \t 793.68 s\n",
      "s (138840, 717)\n",
      "X (138840, 4, 5854)\n",
      "\n",
      "Outcome Shock \t T 4\n",
      "Finish reading data \t 1193.06 s\n",
      "s (164333, 770)\n",
      "X (164333, 4, 6314)\n",
      "\n"
     ]
    }
   ],
   "source": [
    "for task in ['ARF', 'Shock']:\n",
    "    for duration in [4]:\n",
    "        print('Outcome', task, '\\t', 'T', duration)\n",
    "        reader = _eICUReader(task, duration, timestep)\n",
    "        print('s', reader.s.shape)\n",
    "        print('X', reader.X.shape)\n",
    "        print()"
   ]
  },
  {
   "cell_type": "code",
   "execution_count": null,
   "metadata": {
    "scrolled": true
   },
   "outputs": [],
   "source": [
    "for task in ['ARF', 'Shock']:\n",
    "    for duration in [12]:\n",
    "        print('Outcome', task, 'T', duration)\n",
    "        reader = _eICUReader(task, duration, timestep)\n",
    "        print('s', reader.s.shape)\n",
    "        print('X', reader.X.shape)\n",
    "        print()"
   ]
  },
  {
   "cell_type": "code",
   "execution_count": 4,
   "metadata": {},
   "outputs": [
    {
     "name": "stdout",
     "output_type": "stream",
     "text": [
      "Finish reading data \t 35.72 s\n",
      "s (11695, 97)\n",
      "X (11695, 48, 7411)\n"
     ]
    }
   ],
   "source": [
    "for task in ['mortality']:\n",
    "    for duration in [48]:\n",
    "        reader = _Mimic3Reader(task, duration, timestep)\n",
    "        print('s', reader.s.shape)\n",
    "        print('X', reader.X.shape)"
   ]
  },
  {
   "cell_type": "code",
   "execution_count": null,
   "metadata": {},
   "outputs": [],
   "source": []
  }
 ],
 "metadata": {
  "kernelspec": {
   "display_name": "Python 3",
   "language": "python",
   "name": "python3"
  },
  "language_info": {
   "codemirror_mode": {
    "name": "ipython",
    "version": 3
   },
   "file_extension": ".py",
   "mimetype": "text/x-python",
   "name": "python",
   "nbconvert_exporter": "python",
   "pygments_lexer": "ipython3",
   "version": "3.7.4"
  }
 },
 "nbformat": 4,
 "nbformat_minor": 4
}
