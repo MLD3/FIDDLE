{
 "cells": [
  {
   "cell_type": "code",
   "execution_count": 1,
   "metadata": {},
   "outputs": [],
   "source": [
    "eicu_path = '/scratch/wiensj_root/wiensj/shared_data/datasets/eicu-2.0/'\n",
    "data_path = '/scratch/wiensj_root/wiensj/shared_data/FIDDLE_project/'\n",
    "save_path = '/scratch/wiensj_root/wiensj/shared_data/FIDDLE_project/extracted/'"
   ]
  },
  {
   "cell_type": "code",
   "execution_count": 2,
   "metadata": {},
   "outputs": [],
   "source": [
    "import pandas as pd\n",
    "import numpy as np"
   ]
  },
  {
   "cell_type": "code",
   "execution_count": 3,
   "metadata": {
    "scrolled": true
   },
   "outputs": [
    {
     "name": "stdout",
     "output_type": "stream",
     "text": [
      "Total 200859\n"
     ]
    }
   ],
   "source": [
    "df_P = pd.read_csv(eicu_path + 'patient.csv')\n",
    "print('Total', len(df_P))"
   ]
  },
  {
   "cell_type": "code",
   "execution_count": 4,
   "metadata": {},
   "outputs": [],
   "source": [
    "df_ID = df_P[['uniquepid', 'patienthealthsystemstayid', 'patientunitstayid', 'hospitalid', 'gender', 'age']]\n",
    "df_ID = df_ID.rename(columns={\n",
    "    'uniquepid': 'PatientID',\n",
    "    'patienthealthsystemstayid': 'AdmissionID',\n",
    "    'patientunitstayid': 'ICUStayID',\n",
    "})\n",
    "df_ID.loc[df_ID['age'] == '> 89', 'age'] = 300\n",
    "df_ID['age'] = pd.to_numeric(df_ID['age'])"
   ]
  },
  {
   "cell_type": "code",
   "execution_count": 7,
   "metadata": {},
   "outputs": [
    {
     "name": "stdout",
     "output_type": "stream",
     "text": [
      "Patient splits: 97556 20905 20906 / 139367\n",
      "ICU stay splits: 140646 30137 30076 / 200859\n"
     ]
    }
   ],
   "source": [
    "## Create train-val-test split\n",
    "patients = df_ID['PatientID'].unique()\n",
    "\n",
    "from collections import Counter\n",
    "from sklearn.model_selection import ShuffleSplit\n",
    "sss1 = ShuffleSplit(1, test_size=0.3, random_state=0)\n",
    "sss2 = ShuffleSplit(1, test_size=0.5, random_state=0)\n",
    "\n",
    "y = patients\n",
    "train_idx, val_test_idx = next(sss1.split(y, y))\n",
    "y_val_test = y[val_test_idx]\n",
    "val_idx, test_idx = next(sss2.split(y_val_test, y_val_test))\n",
    "val_idx = val_test_idx[val_idx]\n",
    "test_idx = val_test_idx[test_idx]\n",
    "\n",
    "df_ID['partition'] = 'null'\n",
    "df_ID.loc[df_ID['PatientID'].isin(patients[train_idx]), 'partition'] = 'train'\n",
    "df_ID.loc[df_ID['PatientID'].isin(patients[val_idx]), 'partition'] = 'val'\n",
    "df_ID.loc[df_ID['PatientID'].isin(patients[test_idx]), 'partition'] = 'test'\n",
    "\n",
    "print('Patient splits:', len(train_idx), len(val_idx), len(test_idx), '/', len(patients))\n",
    "c = Counter(df_ID['partition'])\n",
    "print('ICU stay splits:', c['train'], c['val'], c['test'], '/', len(df_ID))\n"
   ]
  },
  {
   "cell_type": "code",
   "execution_count": 9,
   "metadata": {
    "scrolled": true
   },
   "outputs": [],
   "source": [
    "df_ID.to_csv(save_path + 'icustays.csv', index=False, quoting=2)"
   ]
  },
  {
   "cell_type": "markdown",
   "metadata": {},
   "source": [
    "## mortality"
   ]
  },
  {
   "cell_type": "code",
   "execution_count": 11,
   "metadata": {},
   "outputs": [
    {
     "name": "stdout",
     "output_type": "stream",
     "text": [
      "Mortality status unknown 1751\n"
     ]
    }
   ],
   "source": [
    "print('Mortality status unknown', pd.isnull(df_P['hospitaldischargestatus']).sum())"
   ]
  },
  {
   "cell_type": "code",
   "execution_count": 12,
   "metadata": {},
   "outputs": [],
   "source": [
    "df_out = df_P[['patientunitstayid', 'unitdischargeoffset', 'hospitaldischargestatus']]\n",
    "df_out = df_out.rename(columns={\n",
    "    'patientunitstayid': 'ID',\n",
    "    'unitdischargeoffset': 'ICUDischargeTime',\n",
    "})\n",
    "assert df_out['hospitaldischargestatus'].nunique() == 2 # Alive or Expired\n",
    "df_out['mortality_LABEL'] = (df_out['hospitaldischargestatus'] == 'Expired').astype(int).astype('Int64')\n",
    "df_out.loc[pd.isnull(df_P['hospitaldischargestatus']), 'mortality_LABEL'] = np.nan # unknown mortality"
   ]
  },
  {
   "cell_type": "code",
   "execution_count": 13,
   "metadata": {
    "scrolled": true
   },
   "outputs": [],
   "source": [
    "df_out.to_csv(data_path + 'labels/mortality.csv', index=False)"
   ]
  },
  {
   "cell_type": "markdown",
   "metadata": {},
   "source": [
    "## ARF\n",
    "- value of ventStartOffset (this is a timestamp column) in respiratoryCare table\n",
    "- time of peepLimit in respiratoryCare table\n",
    "- time of recorded PEEP or PEEP/CPAP in respiratoryCharting table"
   ]
  },
  {
   "cell_type": "code",
   "execution_count": 15,
   "metadata": {},
   "outputs": [],
   "source": [
    "df_R = pd.read_pickle(save_path + 'respiratoryCare.pickle')\n",
    "df_RC = pd.read_pickle(save_path + 'respiratoryCharting.pickle')"
   ]
  },
  {
   "cell_type": "code",
   "execution_count": 16,
   "metadata": {},
   "outputs": [],
   "source": [
    "df_PEEP_RC = df_RC[df_RC['variable_name'].isin(['PEEP', 'PEEP/CPAP'])].drop(columns=['variable_value'])\n",
    "df_PEEP_R = df_R[df_R['variable_name'].isin(['peeplimit'])].drop(columns=['variable_value'])"
   ]
  },
  {
   "cell_type": "code",
   "execution_count": 19,
   "metadata": {
    "scrolled": true
   },
   "outputs": [],
   "source": [
    "df_vent_R = df_R[df_R['variable_name'].isin(['ventstartoffset'])] \\\n",
    "    .drop(columns=['t']).rename(columns={'variable_value': 't'})"
   ]
  },
  {
   "cell_type": "code",
   "execution_count": 28,
   "metadata": {},
   "outputs": [],
   "source": [
    "df_ARF = pd.concat([df_PEEP_RC, df_PEEP_R, df_vent_R], sort=True)"
   ]
  },
  {
   "cell_type": "code",
   "execution_count": 29,
   "metadata": {},
   "outputs": [],
   "source": [
    "df_ARF = df_ARF.sort_values(by=['ID', 't', 'variable_name'])"
   ]
  },
  {
   "cell_type": "code",
   "execution_count": 30,
   "metadata": {},
   "outputs": [
    {
     "data": {
      "text/html": [
       "<div>\n",
       "<style scoped>\n",
       "    .dataframe tbody tr th:only-of-type {\n",
       "        vertical-align: middle;\n",
       "    }\n",
       "\n",
       "    .dataframe tbody tr th {\n",
       "        vertical-align: top;\n",
       "    }\n",
       "\n",
       "    .dataframe thead th {\n",
       "        text-align: right;\n",
       "    }\n",
       "</style>\n",
       "<table border=\"1\" class=\"dataframe\">\n",
       "  <thead>\n",
       "    <tr style=\"text-align: right;\">\n",
       "      <th></th>\n",
       "      <th>ID</th>\n",
       "      <th>t</th>\n",
       "      <th>variable_name</th>\n",
       "    </tr>\n",
       "  </thead>\n",
       "  <tbody>\n",
       "    <tr>\n",
       "      <th>0</th>\n",
       "      <td>141168</td>\n",
       "      <td>1566</td>\n",
       "      <td>ventstartoffset</td>\n",
       "    </tr>\n",
       "    <tr>\n",
       "      <th>402141</th>\n",
       "      <td>141168</td>\n",
       "      <td>1926</td>\n",
       "      <td>PEEP</td>\n",
       "    </tr>\n",
       "    <tr>\n",
       "      <th>535859</th>\n",
       "      <td>141168</td>\n",
       "      <td>2046</td>\n",
       "      <td>PEEP</td>\n",
       "    </tr>\n",
       "    <tr>\n",
       "      <th>387074</th>\n",
       "      <td>141168</td>\n",
       "      <td>2136</td>\n",
       "      <td>PEEP</td>\n",
       "    </tr>\n",
       "    <tr>\n",
       "      <th>587362</th>\n",
       "      <td>141168</td>\n",
       "      <td>2166</td>\n",
       "      <td>PEEP</td>\n",
       "    </tr>\n",
       "  </tbody>\n",
       "</table>\n",
       "</div>"
      ],
      "text/plain": [
       "            ID     t    variable_name\n",
       "0       141168  1566  ventstartoffset\n",
       "402141  141168  1926             PEEP\n",
       "535859  141168  2046             PEEP\n",
       "387074  141168  2136             PEEP\n",
       "587362  141168  2166             PEEP"
      ]
     },
     "execution_count": 30,
     "metadata": {},
     "output_type": "execute_result"
    }
   ],
   "source": [
    "df_ARF.head()"
   ]
  },
  {
   "cell_type": "code",
   "execution_count": 31,
   "metadata": {},
   "outputs": [],
   "source": [
    "df_ARF.to_csv(data_path + 'labels/ARF_raw.csv', index=False)"
   ]
  },
  {
   "cell_type": "code",
   "execution_count": 32,
   "metadata": {
    "scrolled": true
   },
   "outputs": [],
   "source": [
    "df_ARF = df_ARF.drop_duplicates(subset=['ID'], keep='first').reset_index(drop=True)"
   ]
  },
  {
   "cell_type": "code",
   "execution_count": 33,
   "metadata": {
    "scrolled": true
   },
   "outputs": [],
   "source": [
    "df_ARF = df_ARF.rename(columns={'t': 'ARF_ONSET_TIME',})\n",
    "df_ARF['ARF_LABEL'] = 1"
   ]
  },
  {
   "cell_type": "code",
   "execution_count": 34,
   "metadata": {
    "scrolled": true
   },
   "outputs": [],
   "source": [
    "df_ARF.to_csv(data_path + 'labels/ARF.csv', index=False)"
   ]
  },
  {
   "cell_type": "markdown",
   "metadata": {},
   "source": [
    "## Shock\n",
    "\n",
    "earliest record in infusionDrug/medication table, of any drugName containing\n",
    "- 'norepinephrine', 'levophed',\n",
    "- 'epinephrine',\n",
    "- 'dopamine',\n",
    "- 'vasopressin',\n",
    "- 'phenylephrine', 'neo-synephrine', 'neosynephrine'"
   ]
  },
  {
   "cell_type": "code",
   "execution_count": 3,
   "metadata": {},
   "outputs": [],
   "source": [
    "df_I = pd.read_pickle(save_path + 'infusionDrug.pickle')\n",
    "df_M = pd.read_parquet(save_path + 'medication.parquet')"
   ]
  },
  {
   "cell_type": "code",
   "execution_count": 4,
   "metadata": {},
   "outputs": [],
   "source": [
    "vasopressors = [\n",
    "    'norepinephrine', 'levophed', \n",
    "    'epinephrine', \n",
    "    'dopamine', \n",
    "    'vasopressin', \n",
    "    'phenylephrine', 'neo-synephrine', 'neosynephrine'\n",
    "]"
   ]
  },
  {
   "cell_type": "markdown",
   "metadata": {},
   "source": [
    "### infusion table"
   ]
  },
  {
   "cell_type": "code",
   "execution_count": 25,
   "metadata": {},
   "outputs": [],
   "source": [
    "df_drug = df_I['variable_name'].astype(str).unique()\n",
    "df_drug.sort()\n",
    "vaso = [d for d in df_drug if any(v in d.lower() for v in vasopressors)]\n",
    "df_vaso_I = df_I[df_I['variable_name'].isin(vaso)].copy()"
   ]
  },
  {
   "cell_type": "code",
   "execution_count": 26,
   "metadata": {
    "scrolled": true
   },
   "outputs": [
    {
     "data": {
      "text/plain": [
       "array(['UD', 'ERROR', nan, 'Date\\\\Time Correction', 'OFF\\\\.br\\\\\\\\.br\\\\',\n",
       "       'OFF', 'OFF\\\\.br\\\\', '30\\\\.br\\\\', '50 mcg/min', '50mcg/min\\\\.br\\\\',\n",
       "       'Documentation undone'], dtype=object)"
      ]
     },
     "execution_count": 26,
     "metadata": {},
     "output_type": "execute_result"
    }
   ],
   "source": [
    "# rows with text values are values are ignored\n",
    "df_vaso_I[~df_vaso_I['variable_value'].apply(pd.to_numeric, errors='coerce')\\\n",
    "          .apply(np.isfinite)]['variable_value'].unique()"
   ]
  },
  {
   "cell_type": "markdown",
   "metadata": {},
   "source": [
    "#### fixing some errors"
   ]
  },
  {
   "cell_type": "code",
   "execution_count": 30,
   "metadata": {},
   "outputs": [
    {
     "data": {
      "text/html": [
       "<div>\n",
       "<style scoped>\n",
       "    .dataframe tbody tr th:only-of-type {\n",
       "        vertical-align: middle;\n",
       "    }\n",
       "\n",
       "    .dataframe tbody tr th {\n",
       "        vertical-align: top;\n",
       "    }\n",
       "\n",
       "    .dataframe thead th {\n",
       "        text-align: right;\n",
       "    }\n",
       "</style>\n",
       "<table border=\"1\" class=\"dataframe\">\n",
       "  <thead>\n",
       "    <tr style=\"text-align: right;\">\n",
       "      <th></th>\n",
       "      <th>ID</th>\n",
       "      <th>t</th>\n",
       "      <th>variable_name</th>\n",
       "      <th>variable_value</th>\n",
       "    </tr>\n",
       "  </thead>\n",
       "  <tbody>\n",
       "    <tr>\n",
       "      <th>4691347</th>\n",
       "      <td>3207324</td>\n",
       "      <td>34</td>\n",
       "      <td>Epinephrine (mcg/min)</td>\n",
       "      <td>30\\.br\\</td>\n",
       "    </tr>\n",
       "  </tbody>\n",
       "</table>\n",
       "</div>"
      ],
      "text/plain": [
       "              ID   t          variable_name variable_value\n",
       "4691347  3207324  34  Epinephrine (mcg/min)        30\\.br\\"
      ]
     },
     "execution_count": 30,
     "metadata": {},
     "output_type": "execute_result"
    }
   ],
   "source": [
    "df_vaso_I[df_vaso_I['variable_value'] == '30\\\\.br\\\\']"
   ]
  },
  {
   "cell_type": "code",
   "execution_count": 31,
   "metadata": {},
   "outputs": [],
   "source": [
    "df_vaso_I.loc[df_vaso_I['variable_value'] == '30\\\\.br\\\\', 'variable_value'] = 30"
   ]
  },
  {
   "cell_type": "code",
   "execution_count": 32,
   "metadata": {
    "scrolled": true
   },
   "outputs": [
    {
     "data": {
      "text/html": [
       "<div>\n",
       "<style scoped>\n",
       "    .dataframe tbody tr th:only-of-type {\n",
       "        vertical-align: middle;\n",
       "    }\n",
       "\n",
       "    .dataframe tbody tr th {\n",
       "        vertical-align: top;\n",
       "    }\n",
       "\n",
       "    .dataframe thead th {\n",
       "        text-align: right;\n",
       "    }\n",
       "</style>\n",
       "<table border=\"1\" class=\"dataframe\">\n",
       "  <thead>\n",
       "    <tr style=\"text-align: right;\">\n",
       "      <th></th>\n",
       "      <th>ID</th>\n",
       "      <th>t</th>\n",
       "      <th>variable_name</th>\n",
       "      <th>variable_value</th>\n",
       "    </tr>\n",
       "  </thead>\n",
       "  <tbody>\n",
       "    <tr>\n",
       "      <th>4702167</th>\n",
       "      <td>3211784</td>\n",
       "      <td>3661</td>\n",
       "      <td>Epinephrine (mcg/min)</td>\n",
       "      <td>50 mcg/min</td>\n",
       "    </tr>\n",
       "  </tbody>\n",
       "</table>\n",
       "</div>"
      ],
      "text/plain": [
       "              ID     t          variable_name variable_value\n",
       "4702167  3211784  3661  Epinephrine (mcg/min)     50 mcg/min"
      ]
     },
     "execution_count": 32,
     "metadata": {},
     "output_type": "execute_result"
    }
   ],
   "source": [
    "df_vaso_I[df_vaso_I['variable_value'] == '50 mcg/min']"
   ]
  },
  {
   "cell_type": "code",
   "execution_count": 34,
   "metadata": {
    "scrolled": true
   },
   "outputs": [],
   "source": [
    "df_vaso_I.loc[df_vaso_I['variable_value'] == '50 mcg/min', 'variable_value'] = 50"
   ]
  },
  {
   "cell_type": "code",
   "execution_count": 35,
   "metadata": {
    "scrolled": true
   },
   "outputs": [
    {
     "data": {
      "text/html": [
       "<div>\n",
       "<style scoped>\n",
       "    .dataframe tbody tr th:only-of-type {\n",
       "        vertical-align: middle;\n",
       "    }\n",
       "\n",
       "    .dataframe tbody tr th {\n",
       "        vertical-align: top;\n",
       "    }\n",
       "\n",
       "    .dataframe thead th {\n",
       "        text-align: right;\n",
       "    }\n",
       "</style>\n",
       "<table border=\"1\" class=\"dataframe\">\n",
       "  <thead>\n",
       "    <tr style=\"text-align: right;\">\n",
       "      <th></th>\n",
       "      <th>ID</th>\n",
       "      <th>t</th>\n",
       "      <th>variable_name</th>\n",
       "      <th>variable_value</th>\n",
       "    </tr>\n",
       "  </thead>\n",
       "  <tbody>\n",
       "    <tr>\n",
       "      <th>4702192</th>\n",
       "      <td>3211784</td>\n",
       "      <td>3901</td>\n",
       "      <td>Epinephrine (mcg/min)</td>\n",
       "      <td>50mcg/min\\.br\\</td>\n",
       "    </tr>\n",
       "  </tbody>\n",
       "</table>\n",
       "</div>"
      ],
      "text/plain": [
       "              ID     t          variable_name  variable_value\n",
       "4702192  3211784  3901  Epinephrine (mcg/min)  50mcg/min\\.br\\"
      ]
     },
     "execution_count": 35,
     "metadata": {},
     "output_type": "execute_result"
    }
   ],
   "source": [
    "df_vaso_I[df_vaso_I['variable_value'] == '50mcg/min\\\\.br\\\\']"
   ]
  },
  {
   "cell_type": "code",
   "execution_count": 36,
   "metadata": {
    "scrolled": true
   },
   "outputs": [],
   "source": [
    "df_vaso_I.loc[df_vaso_I['variable_value'] == '50mcg/min\\\\.br\\\\', 'variable_value'] = 50"
   ]
  },
  {
   "cell_type": "markdown",
   "metadata": {},
   "source": [
    "#### continue processing..."
   ]
  },
  {
   "cell_type": "code",
   "execution_count": 37,
   "metadata": {
    "scrolled": false
   },
   "outputs": [
    {
     "data": {
      "text/plain": [
       "1000825"
      ]
     },
     "execution_count": 37,
     "metadata": {},
     "output_type": "execute_result"
    }
   ],
   "source": [
    "# convert non-numeric drug values to nan\n",
    "df_vaso_I['variable_value'] = df_vaso_I['variable_value'].apply(pd.to_numeric, errors='coerce')\n",
    "# remove nan drug values\n",
    "df_vaso_I = df_vaso_I.dropna(axis=0)\n",
    "len(df_vaso_I) # -> 1000825 rows"
   ]
  },
  {
   "cell_type": "code",
   "execution_count": 38,
   "metadata": {
    "scrolled": true
   },
   "outputs": [
    {
     "data": {
      "text/plain": [
       "904398"
      ]
     },
     "execution_count": 38,
     "metadata": {},
     "output_type": "execute_result"
    }
   ],
   "source": [
    "df_vaso_I = df_vaso_I[df_vaso_I['variable_value'] > 0] # positive drug values\n",
    "df_vaso_I = df_vaso_I.drop('variable_value', axis=1)\n",
    "len(df_vaso_I) # -> 904398 rows"
   ]
  },
  {
   "cell_type": "markdown",
   "metadata": {},
   "source": [
    "### medication table"
   ]
  },
  {
   "cell_type": "code",
   "execution_count": 39,
   "metadata": {},
   "outputs": [],
   "source": [
    "df_drug_M = df_M['variable_name'].astype(str).unique()\n",
    "df_drug_M.sort()\n",
    "vaso_M = [d for d in df_drug_M if any(v in d.lower() for v in vasopressors)]\n",
    "df_vaso_M = df_M[df_M['variable_name'].isin(vaso_M)].copy()"
   ]
  },
  {
   "cell_type": "code",
   "execution_count": 40,
   "metadata": {
    "scrolled": true
   },
   "outputs": [
    {
     "data": {
      "text/plain": [
       "array(['SUBQ', 'ONDEM', '0.5 MG', 'IM', 'ONCE', 'MG', '0.4 MG', '8 mg',\n",
       "       'IV', '40 mg', 'Manual Charge', 'MISC', 'Once X1', 'PYXIS',\n",
       "       'Pyxis', '100 mcg', 'as directed', '0.1 mg', 'q5min H4', '0.3 mg',\n",
       "       'Subcut', '10 MG', '20 MG', '10 mg', 'Intravenous',\n",
       "       '5-20 mcg/kg/min', 'IntraVENOUS', '1 MG', '0 MG', 'SUBCUT',\n",
       "       '.STK-MED', '2 spray', 'Each Nostril', 'Every 6 hours PRN', '2 MG',\n",
       "       'IntraMUSCULAR', 'Once as needed', 'Nasal', 'TITRATE', '1 drop',\n",
       "       '1 spray', '4 MG', 'Titrated', '8 MG', '16 MG', '50 MG', '250 MG',\n",
       "       'INFUSE', 'IV CONT', 'Each Nare', 'X1 M659', 'X1 M1079', 'X1 M899',\n",
       "       '5 mcg/kg/min', '250 ML', 'INTRAVENOU', 'INTRAMUSCU', 'ONETIME',\n",
       "       '60 MG', 'SUBCUTAN', '.ROUTE', 'X', '0.2 MG', '3 MG',\n",
       "       'PER PROTOCOL', '40 MG', '4 VL', 'Continuous', 'Continuous PRN',\n",
       "       'PRN', 'AS-DIR', 'H8', 'IVPB', 'X1', 'H1', '16 mg', 'H24',\n",
       "       '200 mcg', 'Once', 'q5min', '50 mcg', '1 mg', '0.2 mg', '250 mcg',\n",
       "       '150 mcg', '100 mg', '400 mcg', '25 mcg', '500 mg', '200 mg',\n",
       "       '1,000 mg', '80 mg', '20 mg', 'Regional', '2 mg', '3 mg',\n",
       "       '500 mcg', '0.4 mg', '1,000 mcg', '6 mg', '50 mg', '75 mcg',\n",
       "       '4 mg', '5 mg', 'PRN X1', '4 mL', 'CENTRAL IV', 'CONTINUOUS',\n",
       "       '16 mL', 'PERIPH IV', 'As needed',\n",
       "       'Titrated/See admin instructions', '.RRT ORDER', '0.5 mg',\n",
       "       'Intramuscular', '80 MG', '800 MG', '1 mL', 'Other', '.DISP',\n",
       "       'Endotracheal', '400 MG', '1000 MCG', 'Subcutaneous', '4000 MCG',\n",
       "       'To OR', 'STAT', 'DRIP', 'X1 M1019', 'CoNtInUos', 'X1 M959',\n",
       "       'X1 M359', 'DEVICE', 'Onetime', 'UD', '4 ML', 'ZPYXVEND',\n",
       "       'ZPYXISVEND', '10 ML', 'PYX1TIME', '20 ML', '2 ML', '1 ML',\n",
       "       '500 ML', 'ONE', '3 ML', '0.1 MG', 'ONETIMEPRN', '5 ML',\n",
       "       'COSIG IV', 'INJ', '30 ML', '1,000 ML',\n",
       "       'IV (injection)                                                                                      ',\n",
       "       'NASAL',\n",
       "       'daily                                                                                                                                                                                                                                                          ',\n",
       "       'Once PRN', 'Q12H', 'Q24H', 'X1 M839', 'X1ED M14', 'Q18H',\n",
       "       'X1 M419', 'CONT', '30 MG', 'Intra-Proc Once X1', 'IVDRIP',\n",
       "       'PRN-TITRATE', '1 VL', '100 MCG', 'Once PRN X1', '50 MCG',\n",
       "       'continuous INDEF', 'INTRAVEN', 'OTCOND',\n",
       "       'IV - continuous infusion (injection)                                                                ',\n",
       "       '60 unit(s)', 'Central Line', '2 mL', 'X1 M599', 'X1 M779',\n",
       "       'X1 M539', 'PRNP', 'X1 M719', 'Q4H', 'Q10H', 'Q6H', 'X1 M1139',\n",
       "       'Q3H', 'Q8H', 'BOTH NARES', '1X', 'PREOP', 'Intra-Proc Once',\n",
       "       'Titrate', 'Post-Proc Continuous', 'PACU USE ONLY', 'Q5MIN'],\n",
       "      dtype=object)"
      ]
     },
     "execution_count": 40,
     "metadata": {},
     "output_type": "execute_result"
    }
   ],
   "source": [
    "# values are messy but should not be ignored\n",
    "df_vaso_M[~df_vaso_M['variable_value'].apply(pd.to_numeric, errors='coerce')\\\n",
    "          .apply(np.isfinite)]['variable_value'].unique()"
   ]
  },
  {
   "cell_type": "code",
   "execution_count": 42,
   "metadata": {
    "scrolled": true
   },
   "outputs": [
    {
     "data": {
      "text/plain": [
       "105631"
      ]
     },
     "execution_count": 42,
     "metadata": {},
     "output_type": "execute_result"
    }
   ],
   "source": [
    "df_vaso_M = df_vaso_M.drop('variable_value', axis=1)\n",
    "len(df_vaso_M) # -> 105631 rows"
   ]
  },
  {
   "cell_type": "markdown",
   "metadata": {},
   "source": [
    "### all vasopressors"
   ]
  },
  {
   "cell_type": "code",
   "execution_count": 51,
   "metadata": {},
   "outputs": [],
   "source": [
    "df_vaso = pd.concat([df_vaso_I, df_vaso_M])"
   ]
  },
  {
   "cell_type": "code",
   "execution_count": 52,
   "metadata": {},
   "outputs": [],
   "source": [
    "df_shock.to_csv(data_path + 'labels/Shock_raw.csv', index=False)"
   ]
  },
  {
   "cell_type": "code",
   "execution_count": 53,
   "metadata": {
    "scrolled": true
   },
   "outputs": [],
   "source": [
    "df_shock = df_vaso.sort_values(by=['ID', 't', 'variable_name']) \\\n",
    "        .drop_duplicates(subset=['ID'], keep='first').reset_index(drop=True)\n",
    "df_shock = df_shock.drop(['variable_name'], axis=1)\n",
    "df_shock = df_shock.rename(columns={\n",
    "    't': 'Shock_ONSET_TIME',\n",
    "})\n",
    "df_shock['Shock_LABEL'] = 1"
   ]
  },
  {
   "cell_type": "code",
   "execution_count": 54,
   "metadata": {
    "scrolled": true
   },
   "outputs": [],
   "source": [
    "df_shock.to_csv(data_path + 'labels/Shock.csv', index=False)"
   ]
  },
  {
   "cell_type": "code",
   "execution_count": 55,
   "metadata": {
    "scrolled": true
   },
   "outputs": [],
   "source": [
    "pd.DataFrame(np.concatenate([vaso, vaso_M]), columns=['name'])\\\n",
    "    .to_csv(data_path + 'labels/Shock_drugs.csv', index=False)"
   ]
  },
  {
   "cell_type": "code",
   "execution_count": null,
   "metadata": {},
   "outputs": [],
   "source": []
  }
 ],
 "metadata": {
  "kernelspec": {
   "display_name": "Python 3",
   "language": "python",
   "name": "python3"
  },
  "language_info": {
   "codemirror_mode": {
    "name": "ipython",
    "version": 3
   },
   "file_extension": ".py",
   "mimetype": "text/x-python",
   "name": "python",
   "nbconvert_exporter": "python",
   "pygments_lexer": "ipython3",
   "version": "3.7.3"
  }
 },
 "nbformat": 4,
 "nbformat_minor": 2
}
