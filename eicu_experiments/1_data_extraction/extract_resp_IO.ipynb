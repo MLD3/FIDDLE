{
 "cells": [
  {
   "cell_type": "code",
   "execution_count": 1,
   "metadata": {},
   "outputs": [],
   "source": [
    "eicu_path = '/scratch/wiensj_root/wiensj/shared_data/datasets/eicu-2.0/'\n",
    "save_path = '/scratch/wiensj_root/wiensj/shared_data/FIDDLE_project/extracted/'\n",
    "\n",
    "import pandas as pd\n",
    "import numpy as np\n",
    "from tqdm import tqdm\n",
    "pd.options.display.max_columns = 100"
   ]
  },
  {
   "cell_type": "markdown",
   "metadata": {},
   "source": [
    "## RespiratoryCare"
   ]
  },
  {
   "cell_type": "code",
   "execution_count": 3,
   "metadata": {
    "scrolled": true
   },
   "outputs": [
    {
     "name": "stderr",
     "output_type": "stream",
     "text": [
      "/sw/arcts/centos7/python3.7-anaconda/2019.07/lib/python3.7/site-packages/IPython/core/interactiveshell.py:3057: DtypeWarning: Columns (4,5,6,12,26,27,28,30,31,32,33) have mixed types. Specify dtype option on import or set low_memory=False.\n",
      "  interactivity=interactivity, compiler=compiler, result=result)\n"
     ]
    }
   ],
   "source": [
    "df_R = pd.read_csv(eicu_path + '{}.csv'.format('respiratoryCare'))"
   ]
  },
  {
   "cell_type": "code",
   "execution_count": 9,
   "metadata": {},
   "outputs": [],
   "source": [
    "for c in ['respcarestatusoffset', 'ventstartoffset', \n",
    "          'ventendoffset', 'priorventstartoffset', \n",
    "          'priorventendoffset']:\n",
    "    df_R[c] = df_R[c].replace({0: np.nan})"
   ]
  },
  {
   "cell_type": "code",
   "execution_count": 5,
   "metadata": {
    "scrolled": true
   },
   "outputs": [
    {
     "data": {
      "text/plain": [
       "Index(['respcareid', 'patientunitstayid', 'respcarestatusoffset',\n",
       "       'currenthistoryseqnum', 'airwaytype', 'airwaysize', 'airwayposition',\n",
       "       'cuffpressure', 'ventstartoffset', 'ventendoffset',\n",
       "       'priorventstartoffset', 'priorventendoffset', 'apneaparms',\n",
       "       'lowexhmvlimit', 'hiexhmvlimit', 'lowexhtvlimit', 'hipeakpreslimit',\n",
       "       'lowpeakpreslimit', 'hirespratelimit', 'lowrespratelimit',\n",
       "       'sighpreslimit', 'lowironoxlimit', 'highironoxlimit',\n",
       "       'meanairwaypreslimit', 'peeplimit', 'cpaplimit', 'setapneainterval',\n",
       "       'setapneatv', 'setapneaippeephigh', 'setapnearr', 'setapneapeakflow',\n",
       "       'setapneainsptime', 'setapneaie', 'setapneafio2'],\n",
       "      dtype='object')"
      ]
     },
     "execution_count": 5,
     "metadata": {},
     "output_type": "execute_result"
    }
   ],
   "source": [
    "df_R.columns"
   ]
  },
  {
   "cell_type": "code",
   "execution_count": 16,
   "metadata": {},
   "outputs": [],
   "source": [
    "df_R1 = df_R.drop(columns=[\n",
    "    'respcareid', 'currenthistoryseqnum', \n",
    "    'ventendoffset', \n",
    "    'priorventendoffset', \n",
    "])\n",
    "df_R1 = df_R1.rename(columns={\n",
    "    'patientunitstayid': 'ID',\n",
    "    'respcarestatusoffset': 't',\n",
    "})\n",
    "df_R1 = df_R1.set_index(['ID', 't'])\n",
    "df_R1.columns.name = 'variable_name'\n",
    "df_R1 = df_R1.stack()\n",
    "df_R1.name = 'variable_value'\n",
    "df_R1 = df_R1.reset_index()"
   ]
  },
  {
   "cell_type": "code",
   "execution_count": 30,
   "metadata": {
    "scrolled": true
   },
   "outputs": [],
   "source": [
    "# need to make sure ventStartOffset is before the recording time\n",
    "df_R1[df_R1['variable_name'] == 'ventstartoffset'][['t', 'variable_value']] \\\n",
    "    .apply(lambda x: x[0] >= x[1], axis=1).mean()\n",
    "\n",
    "# remove rows with ventStartOffset before the recording time\n",
    "df_R2 = df_R1.loc[\n",
    "    df_R1.apply(lambda x: x[2] != 'ventstartoffset' or (x[2] == 'ventstartoffset' and x[1] >= x[3]), axis=1)\n",
    "]"
   ]
  },
  {
   "cell_type": "code",
   "execution_count": 33,
   "metadata": {
    "scrolled": true
   },
   "outputs": [],
   "source": [
    "df_R2.to_pickle(save_path + '{}.pickle'.format('respiratoryCare'))"
   ]
  },
  {
   "cell_type": "markdown",
   "metadata": {},
   "source": [
    "## IntakeOutput"
   ]
  },
  {
   "cell_type": "code",
   "execution_count": 2,
   "metadata": {},
   "outputs": [],
   "source": [
    "df_IO = pd.read_csv(eicu_path + '{}.csv'.format('intakeOutput'))"
   ]
  },
  {
   "cell_type": "code",
   "execution_count": 3,
   "metadata": {},
   "outputs": [],
   "source": [
    "df_IO = df_IO.drop(columns=['intakeoutputid', 'intakeoutputentryoffset', 'celllabel']) \\\n",
    "    .rename(columns={\n",
    "    'patientunitstayid': 'ID', 'intakeoutputoffset': 't', \n",
    "})"
   ]
  },
  {
   "cell_type": "code",
   "execution_count": 4,
   "metadata": {},
   "outputs": [],
   "source": [
    "df_IO1 = df_IO[['ID', 't', 'intaketotal', 'outputtotal', 'dialysistotal', 'nettotal']]\n",
    "df_IO1 = df_IO1.set_index(['ID', 't'])\n",
    "df_IO1.columns.name = 'variable_name'\n",
    "df_IO1 = df_IO1.stack()\n",
    "df_IO1.name = 'variable_value'\n",
    "df_IO1 = df_IO1.reset_index()"
   ]
  },
  {
   "cell_type": "code",
   "execution_count": 5,
   "metadata": {},
   "outputs": [],
   "source": [
    "df_IO2 = df_IO[['ID', 't', 'cellpath', 'cellvaluenumeric', 'cellvaluetext']] \\\n",
    "    .rename(columns={'cellpath': 'variable_name'})\n",
    "df_IO2['variable_value'] = pd.to_numeric(df_IO2['cellvaluetext'], errors='ignore')\n",
    "df_IO2 = df_IO2[['ID', 't', 'variable_name', 'variable_value']]"
   ]
  },
  {
   "cell_type": "code",
   "execution_count": 6,
   "metadata": {
    "scrolled": true
   },
   "outputs": [],
   "source": [
    "del df_IO\n",
    "df_IOo = pd.concat([df_IO1, df_IO2])"
   ]
  },
  {
   "cell_type": "code",
   "execution_count": 7,
   "metadata": {},
   "outputs": [],
   "source": [
    "df_IOo.to_parquet(save_path + 'intakeOutput.parquet')"
   ]
  },
  {
   "cell_type": "code",
   "execution_count": null,
   "metadata": {},
   "outputs": [],
   "source": []
  }
 ],
 "metadata": {
  "kernelspec": {
   "display_name": "Python 3",
   "language": "python",
   "name": "python3"
  },
  "language_info": {
   "codemirror_mode": {
    "name": "ipython",
    "version": 3
   },
   "file_extension": ".py",
   "mimetype": "text/x-python",
   "name": "python",
   "nbconvert_exporter": "python",
   "pygments_lexer": "ipython3",
   "version": "3.7.3"
  }
 },
 "nbformat": 4,
 "nbformat_minor": 2
}
