{
 "cells": [
  {
   "cell_type": "code",
   "execution_count": 1,
   "metadata": {},
   "outputs": [],
   "source": [
    "eicu_path = '/scratch/wiensj_root/wiensj/shared_data/datasets/eicu-2.0/'\n",
    "data_path = '/scratch/wiensj_root/wiensj/shared_data/FIDDLE_project/'\n",
    "\n",
    "import pandas as pd\n",
    "import numpy as np\n",
    "from tqdm import tqdm"
   ]
  },
  {
   "cell_type": "code",
   "execution_count": 4,
   "metadata": {},
   "outputs": [],
   "source": [
    "examples = pd.read_csv(data_path + 'extracted/icustays.csv')\n",
    "labels = pd.read_csv(data_path + 'labels/Shock.csv')"
   ]
  },
  {
   "cell_type": "code",
   "execution_count": 5,
   "metadata": {
    "scrolled": true
   },
   "outputs": [
    {
     "name": "stdout",
     "output_type": "stream",
     "text": [
      "original pupulation:  200859\n"
     ]
    }
   ],
   "source": [
    "print(\"original pupulation: \", examples['ICUStayID'].nunique() )"
   ]
  },
  {
   "cell_type": "code",
   "execution_count": 6,
   "metadata": {
    "scrolled": true
   },
   "outputs": [
    {
     "name": "stdout",
     "output_type": "stream",
     "text": [
      "Exclude non-adults 200234\n"
     ]
    }
   ],
   "source": [
    "# Remove non-adults\n",
    "min_age = 18\n",
    "max_age = np.inf # no max age\n",
    "examples = examples[(examples.age >= min_age) & (examples.age <= max_age)]\n",
    "print('Exclude non-adults', examples['ICUStayID'].nunique())"
   ]
  },
  {
   "cell_type": "code",
   "execution_count": 7,
   "metadata": {},
   "outputs": [],
   "source": [
    "hospitals = sorted(examples['hospitalid'].unique())"
   ]
  },
  {
   "cell_type": "code",
   "execution_count": 8,
   "metadata": {
    "scrolled": true
   },
   "outputs": [
    {
     "data": {
      "text/plain": [
       "208"
      ]
     },
     "execution_count": 8,
     "metadata": {},
     "output_type": "execute_result"
    }
   ],
   "source": [
    "len(hospitals)"
   ]
  },
  {
   "cell_type": "code",
   "execution_count": 9,
   "metadata": {},
   "outputs": [],
   "source": [
    "df_I = pd.read_pickle(data_path + 'extracted/infusionDrug.pickle')\n",
    "df_M = pd.read_parquet(data_path + 'extracted/medication.parquet')"
   ]
  },
  {
   "cell_type": "code",
   "execution_count": 10,
   "metadata": {},
   "outputs": [],
   "source": [
    "IDs = sorted(set(\n",
    "    list(df_I['ID'].unique()) + \\\n",
    "    list(df_M['ID'].unique())\n",
    "))"
   ]
  },
  {
   "cell_type": "code",
   "execution_count": 11,
   "metadata": {
    "scrolled": true
   },
   "outputs": [
    {
     "data": {
      "text/plain": [
       "176120"
      ]
     },
     "execution_count": 11,
     "metadata": {},
     "output_type": "execute_result"
    }
   ],
   "source": [
    "len(IDs)"
   ]
  },
  {
   "cell_type": "code",
   "execution_count": 12,
   "metadata": {},
   "outputs": [],
   "source": [
    "hospitals_ARF = sorted(examples.loc[examples['ICUStayID'].isin(IDs), 'hospitalid'].unique())"
   ]
  },
  {
   "cell_type": "code",
   "execution_count": 13,
   "metadata": {
    "scrolled": true
   },
   "outputs": [
    {
     "data": {
      "text/plain": [
       "201"
      ]
     },
     "execution_count": 13,
     "metadata": {},
     "output_type": "execute_result"
    }
   ],
   "source": [
    "len(hospitals_ARF) # hospitals to keep"
   ]
  },
  {
   "cell_type": "code",
   "execution_count": 14,
   "metadata": {},
   "outputs": [],
   "source": [
    "examples = examples[examples['hospitalid'].isin(hospitals_ARF)]"
   ]
  },
  {
   "cell_type": "code",
   "execution_count": 15,
   "metadata": {},
   "outputs": [
    {
     "name": "stdout",
     "output_type": "stream",
     "text": [
      "Exclude hospitals without labels 198382\n"
     ]
    }
   ],
   "source": [
    "print('Exclude hospitals without labels', examples['ICUStayID'].nunique())"
   ]
  },
  {
   "cell_type": "code",
   "execution_count": 16,
   "metadata": {},
   "outputs": [],
   "source": [
    "examples_ = examples.rename(columns={'ICUStayID': 'ID'})\n",
    "mort = pd.read_csv(data_path + 'labels/mortality.csv')\n",
    "examples_ = pd.merge(examples_, mort, on='ID', how='left')"
   ]
  },
  {
   "cell_type": "code",
   "execution_count": 18,
   "metadata": {},
   "outputs": [
    {
     "data": {
      "text/plain": [
       "198382"
      ]
     },
     "execution_count": 18,
     "metadata": {},
     "output_type": "execute_result"
    }
   ],
   "source": [
    "len(examples_)"
   ]
  },
  {
   "cell_type": "code",
   "execution_count": 17,
   "metadata": {},
   "outputs": [
    {
     "name": "stdout",
     "output_type": "stream",
     "text": [
      "======\n",
      "prediction time 4.0 hour\n",
      "Exclude deaths 186416\n",
      "---\n",
      "Outcome Shock\n",
      "Exclude onset 164333\n",
      "======\n",
      "prediction time 12.0 hour\n",
      "Exclude deaths 170730\n",
      "---\n",
      "Outcome Shock\n",
      "Exclude onset 144725\n"
     ]
    }
   ],
   "source": [
    "task = 'Shock'\n",
    "for T in [4.0, 12.0]:\n",
    "    print('======')\n",
    "    print('prediction time', T, 'hour')\n",
    "\n",
    "    # Remove discharege and deaths before cutoff hour\n",
    "    examples = examples_[examples_['ICUDischargeTime'] >= T * 60]\n",
    "    print('Exclude deaths', examples['ID'].nunique())\n",
    "\n",
    "    print('---')\n",
    "    print('Outcome', task)\n",
    "\n",
    "    pop = examples[['ID']] \\\n",
    "            .merge(labels[['ID', '{}_ONSET_TIME'.format(task)]], on='ID', how='left')\n",
    "    pop = pop[(pop['{}_ONSET_TIME'.format(task)] >= T*60) | pop['{}_ONSET_TIME'.format(task)].isnull()]\n",
    "    pop['{}_LABEL'.format(task)] = pop['{}_ONSET_TIME'.format(task)].notnull().astype(int)\n",
    "    pop.to_csv(data_path + 'population/{}_{}h.csv'.format(task, T), index=False)\n",
    "\n",
    "    print('Exclude onset', len(pop))"
   ]
  },
  {
   "cell_type": "code",
   "execution_count": null,
   "metadata": {},
   "outputs": [],
   "source": []
  }
 ],
 "metadata": {
  "kernelspec": {
   "display_name": "Python 3",
   "language": "python",
   "name": "python3"
  },
  "language_info": {
   "codemirror_mode": {
    "name": "ipython",
    "version": 3
   },
   "file_extension": ".py",
   "mimetype": "text/x-python",
   "name": "python",
   "nbconvert_exporter": "python",
   "pygments_lexer": "ipython3",
   "version": "3.7.3"
  }
 },
 "nbformat": 4,
 "nbformat_minor": 2
}
